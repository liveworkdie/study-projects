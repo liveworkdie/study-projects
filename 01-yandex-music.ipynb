{
 "cells": [
  {
   "cell_type": "markdown",
   "metadata": {
    "id": "E0vqbgi9ay0H",
    "tags": []
   },
   "source": [
    "# Исследование данных сервиса “Яндекс.Музыка” — сравнение пользователей двух городов"
   ]
  },
  {
   "cell_type": "markdown",
   "metadata": {
    "id": "VUC88oWjTJw2"
   },
   "source": [
    "Сравнение Москвы и Петербурга окружено мифами. Например:\n",
    " * Москва — мегаполис, подчинённый жёсткому ритму рабочей недели;\n",
    " * Петербург — культурная столица, со своими вкусами.\n",
    "\n",
    "На данных Яндекс.Музыки необходимо сравнить поведение пользователей двух столиц.\n",
    "\n",
    "**Цель исследования** — проверить три гипотезы:\n",
    "1. Активность пользователей зависит от дня недели. Причём в Москве и Петербурге это проявляется по-разному.\n",
    "2. В понедельник утром в Москве преобладают одни жанры, а в Петербурге — другие. Так же и вечером пятницы преобладают разные жанры — в зависимости от города. \n",
    "3. Москва и Петербург предпочитают разные жанры музыки. В Москве чаще слушают поп-музыку, в Петербурге — русский рэп.\n",
    "\n",
    "**Ход исследования**\n",
    "\n",
    "Данные о поведении пользователей доступны в файле. О качестве данных ничего неизвестно. Поэтому перед проверкой гипотез потребуется сделать обзор данных. \n",
    "\n",
    "По результатам проверки данных на ошибки, необходимо оценить их влияние на исследование. Затем, на этапе предобработки поискать возможность исправить самые критичные ошибки данных.\n",
    " \n",
    "Таким образом, исследование пройдёт в три этапа:\n",
    " 1. Обзор данных.\n",
    " 2. Предобработка данных.\n",
    " 3. Проверка гипотез."
   ]
  },
  {
   "cell_type": "markdown",
   "metadata": {
    "id": "Ml1hmfXC_Zcs"
   },
   "source": [
    "## Обзор данных\n",
    "\n",
    "Составим первое представление о данных Яндекс.Музыки."
   ]
  },
  {
   "cell_type": "markdown",
   "metadata": {
    "id": "57eAOGIz_Zcs"
   },
   "source": [
    "Основной инструмент аналитика — `pandas`. Импортируем эту библиотеку."
   ]
  },
  {
   "cell_type": "code",
   "execution_count": 1,
   "metadata": {
    "id": "AXN7PHPN_Zcs"
   },
   "outputs": [],
   "source": [
    "# импорт библиотеки pandas\n",
    "\n",
    "import itertools\n",
    "import requests\n",
    "from urllib.parse import urlencode\n",
    "import pandas as pd"
   ]
  },
  {
   "cell_type": "markdown",
   "metadata": {
    "id": "SG23P8tt_Zcs"
   },
   "source": [
    "Оформим функцию, которая будет забирать данные по api из яндекс.диска и поместит эти данные в df."
   ]
  },
  {
   "cell_type": "code",
   "execution_count": 2,
   "metadata": {},
   "outputs": [
    {
     "name": "stdout",
     "output_type": "stream",
     "text": [
      "<Response [200]>\n"
     ]
    }
   ],
   "source": [
    "# функция для скачивания файла из облака\n",
    "def download_file(base_url, public_key):\n",
    "    '''    \n",
    "    функция отправляет запрос к api яндекс.диска\n",
    "    возвращает ответ api [0] и скаченный файл [1]\n",
    "    base_url — ссылка для обращения к api\n",
    "    public_key — публичная ссылка на файл\n",
    "    '''    \n",
    "    url = base_url + urlencode(dict(public_key=public_key))\n",
    "    response = requests.get(url)\n",
    "    download_url = response.json()['href']\n",
    "    download_response = requests.get(download_url)\n",
    "    \n",
    "    return download_response, download_url\n",
    "\n",
    "# обращения к api яндекс.диска и публичная ссылка\n",
    "base_url = 'https://cloud-api.yandex.net/v1/disk/public/resources/download?'\n",
    "public_key = 'sorry-for-that-there-was-an-public-api-and-it-disappeared'\n",
    "\n",
    "# забрать файл\n",
    "api_response = download_file(base_url, public_key)\n",
    "\n",
    "# вывести ответ api — 200 OK\n",
    "print(api_response[0])\n",
    "\n",
    "# записать скаченный файл в переменную\n",
    "df = pd.read_csv(\n",
    "    api_response[1]    \n",
    ")"
   ]
  },
  {
   "cell_type": "markdown",
   "metadata": {
    "id": "rDoOMd3uTqnZ"
   },
   "source": [
    "Выведем на экран первые десять строк таблицы:"
   ]
  },
  {
   "cell_type": "code",
   "execution_count": 3,
   "metadata": {
    "id": "oWTVX3gW_Zct"
   },
   "outputs": [
    {
     "data": {
      "text/html": [
       "<div>\n",
       "<style scoped>\n",
       "    .dataframe tbody tr th:only-of-type {\n",
       "        vertical-align: middle;\n",
       "    }\n",
       "\n",
       "    .dataframe tbody tr th {\n",
       "        vertical-align: top;\n",
       "    }\n",
       "\n",
       "    .dataframe thead th {\n",
       "        text-align: right;\n",
       "    }\n",
       "</style>\n",
       "<table border=\"1\" class=\"dataframe\">\n",
       "  <thead>\n",
       "    <tr style=\"text-align: right;\">\n",
       "      <th></th>\n",
       "      <th>Unnamed: 0</th>\n",
       "      <th>userID</th>\n",
       "      <th>Track</th>\n",
       "      <th>artist</th>\n",
       "      <th>genre</th>\n",
       "      <th>City</th>\n",
       "      <th>time</th>\n",
       "      <th>Day</th>\n",
       "    </tr>\n",
       "  </thead>\n",
       "  <tbody>\n",
       "    <tr>\n",
       "      <th>0</th>\n",
       "      <td>0</td>\n",
       "      <td>FFB692EC</td>\n",
       "      <td>Kamigata To Boots</td>\n",
       "      <td>The Mass Missile</td>\n",
       "      <td>rock</td>\n",
       "      <td>Saint-Petersburg</td>\n",
       "      <td>20:28:33</td>\n",
       "      <td>Wednesday</td>\n",
       "    </tr>\n",
       "    <tr>\n",
       "      <th>1</th>\n",
       "      <td>1</td>\n",
       "      <td>55204538</td>\n",
       "      <td>Delayed Because of Accident</td>\n",
       "      <td>Andreas Rönnberg</td>\n",
       "      <td>rock</td>\n",
       "      <td>Moscow</td>\n",
       "      <td>14:07:09</td>\n",
       "      <td>Friday</td>\n",
       "    </tr>\n",
       "    <tr>\n",
       "      <th>2</th>\n",
       "      <td>2</td>\n",
       "      <td>20EC38</td>\n",
       "      <td>Funiculì funiculà</td>\n",
       "      <td>Mario Lanza</td>\n",
       "      <td>pop</td>\n",
       "      <td>Saint-Petersburg</td>\n",
       "      <td>20:58:07</td>\n",
       "      <td>Wednesday</td>\n",
       "    </tr>\n",
       "    <tr>\n",
       "      <th>3</th>\n",
       "      <td>3</td>\n",
       "      <td>A3DD03C9</td>\n",
       "      <td>Dragons in the Sunset</td>\n",
       "      <td>Fire + Ice</td>\n",
       "      <td>folk</td>\n",
       "      <td>Saint-Petersburg</td>\n",
       "      <td>08:37:09</td>\n",
       "      <td>Monday</td>\n",
       "    </tr>\n",
       "    <tr>\n",
       "      <th>4</th>\n",
       "      <td>4</td>\n",
       "      <td>E2DC1FAE</td>\n",
       "      <td>Soul People</td>\n",
       "      <td>Space Echo</td>\n",
       "      <td>dance</td>\n",
       "      <td>Moscow</td>\n",
       "      <td>08:34:34</td>\n",
       "      <td>Monday</td>\n",
       "    </tr>\n",
       "    <tr>\n",
       "      <th>5</th>\n",
       "      <td>5</td>\n",
       "      <td>842029A1</td>\n",
       "      <td>Преданная</td>\n",
       "      <td>IMPERVTOR</td>\n",
       "      <td>rusrap</td>\n",
       "      <td>Saint-Petersburg</td>\n",
       "      <td>13:09:41</td>\n",
       "      <td>Friday</td>\n",
       "    </tr>\n",
       "    <tr>\n",
       "      <th>6</th>\n",
       "      <td>6</td>\n",
       "      <td>4CB90AA5</td>\n",
       "      <td>True</td>\n",
       "      <td>Roman Messer</td>\n",
       "      <td>dance</td>\n",
       "      <td>Moscow</td>\n",
       "      <td>13:00:07</td>\n",
       "      <td>Wednesday</td>\n",
       "    </tr>\n",
       "    <tr>\n",
       "      <th>7</th>\n",
       "      <td>7</td>\n",
       "      <td>F03E1C1F</td>\n",
       "      <td>Feeling This Way</td>\n",
       "      <td>Polina Griffith</td>\n",
       "      <td>dance</td>\n",
       "      <td>Moscow</td>\n",
       "      <td>20:47:49</td>\n",
       "      <td>Wednesday</td>\n",
       "    </tr>\n",
       "    <tr>\n",
       "      <th>8</th>\n",
       "      <td>8</td>\n",
       "      <td>8FA1D3BE</td>\n",
       "      <td>И вновь продолжается бой</td>\n",
       "      <td>NaN</td>\n",
       "      <td>ruspop</td>\n",
       "      <td>Moscow</td>\n",
       "      <td>09:17:40</td>\n",
       "      <td>Friday</td>\n",
       "    </tr>\n",
       "    <tr>\n",
       "      <th>9</th>\n",
       "      <td>9</td>\n",
       "      <td>E772D5C0</td>\n",
       "      <td>Pessimist</td>\n",
       "      <td>NaN</td>\n",
       "      <td>dance</td>\n",
       "      <td>Saint-Petersburg</td>\n",
       "      <td>21:20:49</td>\n",
       "      <td>Wednesday</td>\n",
       "    </tr>\n",
       "  </tbody>\n",
       "</table>\n",
       "</div>"
      ],
      "text/plain": [
       "   Unnamed: 0    userID                        Track            artist  \\\n",
       "0           0  FFB692EC            Kamigata To Boots  The Mass Missile   \n",
       "1           1  55204538  Delayed Because of Accident  Andreas Rönnberg   \n",
       "2           2    20EC38            Funiculì funiculà       Mario Lanza   \n",
       "3           3  A3DD03C9        Dragons in the Sunset        Fire + Ice   \n",
       "4           4  E2DC1FAE                  Soul People        Space Echo   \n",
       "5           5  842029A1                    Преданная         IMPERVTOR   \n",
       "6           6  4CB90AA5                         True      Roman Messer   \n",
       "7           7  F03E1C1F             Feeling This Way   Polina Griffith   \n",
       "8           8  8FA1D3BE     И вновь продолжается бой               NaN   \n",
       "9           9  E772D5C0                    Pessimist               NaN   \n",
       "\n",
       "    genre            City        time        Day  \n",
       "0    rock  Saint-Petersburg  20:28:33  Wednesday  \n",
       "1    rock            Moscow  14:07:09     Friday  \n",
       "2     pop  Saint-Petersburg  20:58:07  Wednesday  \n",
       "3    folk  Saint-Petersburg  08:37:09     Monday  \n",
       "4   dance            Moscow  08:34:34     Monday  \n",
       "5  rusrap  Saint-Petersburg  13:09:41     Friday  \n",
       "6   dance            Moscow  13:00:07  Wednesday  \n",
       "7   dance            Moscow  20:47:49  Wednesday  \n",
       "8  ruspop            Moscow  09:17:40     Friday  \n",
       "9   dance  Saint-Petersburg  21:20:49  Wednesday  "
      ]
     },
     "execution_count": 3,
     "metadata": {},
     "output_type": "execute_result"
    }
   ],
   "source": [
    "# получение первых 10 строк таблицы df\n",
    "\n",
    "df.head(10)"
   ]
  },
  {
   "cell_type": "markdown",
   "metadata": {
    "id": "EO73Kwic_Zct"
   },
   "source": [
    "Получим общую информацию о таблице."
   ]
  },
  {
   "cell_type": "code",
   "execution_count": 4,
   "metadata": {
    "id": "DSf2kIb-_Zct"
   },
   "outputs": [
    {
     "name": "stdout",
     "output_type": "stream",
     "text": [
      "<class 'pandas.core.frame.DataFrame'>\n",
      "RangeIndex: 65079 entries, 0 to 65078\n",
      "Data columns (total 8 columns):\n",
      " #   Column      Non-Null Count  Dtype \n",
      "---  ------      --------------  ----- \n",
      " 0   Unnamed: 0  65079 non-null  int64 \n",
      " 1     userID    65079 non-null  object\n",
      " 2   Track       63848 non-null  object\n",
      " 3   artist      57876 non-null  object\n",
      " 4   genre       63881 non-null  object\n",
      " 5     City      65079 non-null  object\n",
      " 6   time        65079 non-null  object\n",
      " 7   Day         65079 non-null  object\n",
      "dtypes: int64(1), object(7)\n",
      "memory usage: 4.0+ MB\n"
     ]
    }
   ],
   "source": [
    "# получение общей информации о данных в таблице df\n",
    "df.info()"
   ]
  },
  {
   "cell_type": "markdown",
   "metadata": {
    "id": "TaQ2Iwbr_Zct"
   },
   "source": [
    "Итак, в таблице семь столбцов. Тип данных во всех столбцах — `object`.\n",
    "\n",
    "Согласно документации к данным:\n",
    "* `userID` — идентификатор пользователя;\n",
    "* `Track` — название трека;  \n",
    "* `artist` — имя исполнителя;\n",
    "* `genre` — название жанра;\n",
    "* `City` — город пользователя;\n",
    "* `time` — время начала прослушивания;\n",
    "* `Day` — день недели.\n",
    "\n",
    "В названиях колонок видны три нарушения стиля:\n",
    "1. Строчные буквы сочетаются с прописными.\n",
    "2. Встречаются пробелы.\n",
    "3. `userID` написано в стиле camelCase\n",
    "\n",
    "\n",
    "\n",
    "Количество значений в столбцах различается. Значит, в данных есть пропущенные значения.\n"
   ]
  },
  {
   "cell_type": "markdown",
   "metadata": {
    "id": "MCB6-dXG_Zct"
   },
   "source": [
    "**Выводы**\n",
    "\n",
    "В каждой строке таблицы — данные о прослушанном треке. Часть колонок описывает саму композицию: название, исполнителя и жанр. Остальные данные рассказывают о пользователе: из какого он города, когда он слушал музыку. \n",
    "\n",
    "Предварительно можно утверждать, что, данных достаточно для проверки гипотез. Но встречаются пропуски в данных, а в названиях колонок — расхождения с хорошим стилем.\n",
    "\n",
    "Чтобы двигаться дальше, нужно устранить проблемы в данных."
   ]
  },
  {
   "cell_type": "markdown",
   "metadata": {
    "id": "SjYF6Ub9_Zct"
   },
   "source": [
    "## Предобработка данных\n",
    "Исправим стиль в заголовках столбцов, исключим пропуски. Затем проверимданные на дубликаты."
   ]
  },
  {
   "cell_type": "markdown",
   "metadata": {
    "id": "dIaKXr29_Zct"
   },
   "source": [
    "### Стиль заголовков\n",
    "Выведем на экран названия столбцов:"
   ]
  },
  {
   "cell_type": "code",
   "execution_count": 5,
   "metadata": {
    "id": "oKOTdF_Q_Zct",
    "scrolled": true
   },
   "outputs": [
    {
     "data": {
      "text/plain": [
       "Index(['Unnamed: 0', '  userID', 'Track', 'artist', 'genre', '  City  ',\n",
       "       'time', 'Day'],\n",
       "      dtype='object')"
      ]
     },
     "execution_count": 5,
     "metadata": {},
     "output_type": "execute_result"
    }
   ],
   "source": [
    "# вывести колонки df\n",
    "df.columns"
   ]
  },
  {
   "cell_type": "markdown",
   "metadata": {
    "id": "zj5534cv_Zct"
   },
   "source": [
    "Приведём название колонок в соответствие с хорошим стилем:\n",
    "* несколько слов в названии в «snake_case»,\n",
    "* все символы строчными,\n",
    "* убрать непечатные символы."
   ]
  },
  {
   "cell_type": "code",
   "execution_count": 6,
   "metadata": {},
   "outputs": [],
   "source": [
    "# удалить колонку с индексом\n",
    "df.drop(columns=[df.columns[0]], inplace=True)\n",
    "\n",
    "# привести название колонок в нижний регистр\n",
    "df.columns = df.columns.str.lower().str.strip()\n",
    "\n",
    "# переименование столбцов\n",
    "df.rename(columns={'userid': 'user_id'}, inplace=True)"
   ]
  },
  {
   "cell_type": "markdown",
   "metadata": {
    "id": "1dqbh00J_Zct"
   },
   "source": [
    "Проверим результат работы с колонками."
   ]
  },
  {
   "cell_type": "code",
   "execution_count": 7,
   "metadata": {},
   "outputs": [
    {
     "data": {
      "text/plain": [
       "Index(['user_id', 'track', 'artist', 'genre', 'city', 'time', 'day'], dtype='object')"
      ]
     },
     "execution_count": 7,
     "metadata": {},
     "output_type": "execute_result"
    }
   ],
   "source": [
    "# вывести колонки\n",
    "df.columns"
   ]
  },
  {
   "cell_type": "markdown",
   "metadata": {
    "id": "5ISfbcfY_Zct"
   },
   "source": [
    "### Пропуски значений\n",
    "Сначала посчитаем, сколько в таблице пропущенных значений. Для этого достаточно двух методов `pandas`:"
   ]
  },
  {
   "cell_type": "code",
   "execution_count": 8,
   "metadata": {
    "id": "RskX29qr_Zct",
    "scrolled": true
   },
   "outputs": [
    {
     "data": {
      "text/plain": [
       "user_id       0\n",
       "track      1231\n",
       "artist     7203\n",
       "genre      1198\n",
       "city          0\n",
       "time          0\n",
       "day           0\n",
       "dtype: int64"
      ]
     },
     "execution_count": 8,
     "metadata": {},
     "output_type": "execute_result"
    }
   ],
   "source": [
    "# подсчёт пропусков\n",
    "\n",
    "df.isna().sum()"
   ]
  },
  {
   "cell_type": "markdown",
   "metadata": {
    "id": "qubhgnlO_Zct"
   },
   "source": [
    "Не все пропущенные значения влияют на исследование. Так в `track` и `artist` пропуски не важны для нашей работы. Достаточно заменить их явными обозначениями.\n",
    "\n",
    "Но пропуски в `genre` могут помешать сравнению музыкальных вкусов в Москве и Санкт-Петербурге. На практике было бы правильно установить причину пропусков и восстановить данные. Такой возможности нет в учебном проекте. Придётся:\n",
    "* заполнить и эти пропуски явными обозначениями,\n",
    "* оценить, насколько они повредят расчётам. "
   ]
  },
  {
   "cell_type": "markdown",
   "metadata": {
    "id": "fSv2laPA_Zct"
   },
   "source": [
    "Заменим пропущенные значения в столбцах `track`, `artist` и `genre` на строку `'unknown'`. Для этого создадим список `columns_to_replace`, переберём его элементы циклом `for` и для каждого столбца выполним замену пропущенных значений:"
   ]
  },
  {
   "cell_type": "code",
   "execution_count": 9,
   "metadata": {
    "id": "KplB5qWs_Zct"
   },
   "outputs": [],
   "source": [
    "# перебор названий столбцов в цикле и замена пропущенных значений на 'unknown'\n",
    "columns_to_replace = ['track', 'artist', 'genre']\n",
    "\n",
    "for col in columns_to_replace:\n",
    "    df[col] = df[col].fillna('unknown')"
   ]
  },
  {
   "cell_type": "markdown",
   "metadata": {
    "id": "Ilsm-MZo_Zct"
   },
   "source": [
    "Убедимся, что в таблице не осталось пропусков. Для этого ещё раз посчитаем пропущенные значения."
   ]
  },
  {
   "cell_type": "code",
   "execution_count": 10,
   "metadata": {
    "id": "Tq4nYRX4_Zct"
   },
   "outputs": [
    {
     "data": {
      "text/plain": [
       "user_id    0\n",
       "track      0\n",
       "artist     0\n",
       "genre      0\n",
       "city       0\n",
       "time       0\n",
       "day        0\n",
       "dtype: int64"
      ]
     },
     "execution_count": 10,
     "metadata": {},
     "output_type": "execute_result"
    }
   ],
   "source": [
    "# подсчёт пропусков\n",
    "df.isna().sum()"
   ]
  },
  {
   "cell_type": "markdown",
   "metadata": {
    "id": "BWKRtBJ3_Zct"
   },
   "source": [
    "### Дубликаты\n",
    "Посчитаем явные дубликаты в таблице одной командой:"
   ]
  },
  {
   "cell_type": "code",
   "execution_count": 11,
   "metadata": {
    "id": "36eES_S0_Zct"
   },
   "outputs": [
    {
     "data": {
      "text/plain": [
       "3826"
      ]
     },
     "execution_count": 11,
     "metadata": {},
     "output_type": "execute_result"
    }
   ],
   "source": [
    "# подсчёт явных дубликатов\n",
    "df.duplicated().sum()"
   ]
  },
  {
   "cell_type": "markdown",
   "metadata": {
    "id": "Ot25h6XR_Zct"
   },
   "source": [
    "Вызовем специальный метод `pandas`, чтобы удалить явные дубликаты:"
   ]
  },
  {
   "cell_type": "code",
   "execution_count": 12,
   "metadata": {
    "id": "exFHq6tt_Zct"
   },
   "outputs": [],
   "source": [
    "# удаление явных дубликатов (с удалением старых индексов и формированием новых)\n",
    "df.drop_duplicates().reset_index(drop=True, inplace=True)"
   ]
  },
  {
   "cell_type": "markdown",
   "metadata": {
    "id": "Im2YwBEG_Zct"
   },
   "source": [
    "Ещё раз посчитаем явные дубликаты в таблице — убедимся, что полностью от них избавились:"
   ]
  },
  {
   "cell_type": "code",
   "execution_count": 13,
   "metadata": {
    "id": "-8PuNWQ0_Zct"
   },
   "outputs": [
    {
     "data": {
      "text/plain": [
       "3826"
      ]
     },
     "execution_count": 13,
     "metadata": {},
     "output_type": "execute_result"
    }
   ],
   "source": [
    "# проверка на отсутствие дубликатов\n",
    "\n",
    "df.duplicated().sum()"
   ]
  },
  {
   "cell_type": "markdown",
   "metadata": {
    "id": "QlFBsxAr_Zct"
   },
   "source": [
    "Теперь избавимся от неявных дубликатов в колонке `genre`. Например, название одного и того же жанра может быть записано немного по-разному. Такие ошибки тоже повлияют на результат исследования."
   ]
  },
  {
   "cell_type": "markdown",
   "metadata": {
    "id": "eSjWwsOh_Zct"
   },
   "source": [
    "Выведем на экран список уникальных названий жанров, отсортированный в алфавитном порядке. Для этого:\n",
    "* извлечём нужный столбец датафрейма, \n",
    "* применим к нему метод сортировки,\n",
    "* для отсортированного столбца вызовем метод, который вернёт уникальные значения из столбца."
   ]
  },
  {
   "cell_type": "code",
   "execution_count": 14,
   "metadata": {
    "id": "JIUcqzZN_Zct"
   },
   "outputs": [
    {
     "data": {
      "text/plain": [
       "array(['acid', 'acoustic', 'action', 'adult', 'africa', 'afrikaans',\n",
       "       'alternative', 'alternativepunk', 'ambient', 'americana',\n",
       "       'animated', 'anime', 'arabesk', 'arabic', 'arena',\n",
       "       'argentinetango', 'art', 'audiobook', 'author', 'avantgarde',\n",
       "       'axé', 'baile', 'balkan', 'beats', 'bigroom', 'black', 'bluegrass',\n",
       "       'blues', 'bollywood', 'bossa', 'brazilian', 'breakbeat', 'breaks',\n",
       "       'broadway', 'cantautori', 'cantopop', 'canzone', 'caribbean',\n",
       "       'caucasian', 'celtic', 'chamber', 'chanson', 'children', 'chill',\n",
       "       'chinese', 'choral', 'christian', 'christmas', 'classical',\n",
       "       'classicmetal', 'club', 'colombian', 'comedy', 'conjazz',\n",
       "       'contemporary', 'country', 'cuban', 'dance', 'dancehall',\n",
       "       'dancepop', 'dark', 'death', 'deep', 'deutschrock', 'deutschspr',\n",
       "       'dirty', 'disco', 'dnb', 'documentary', 'downbeat', 'downtempo',\n",
       "       'drum', 'dub', 'dubstep', 'eastern', 'easy', 'electronic',\n",
       "       'electropop', 'emo', 'entehno', 'epicmetal', 'estrada', 'ethnic',\n",
       "       'eurofolk', 'european', 'experimental', 'extrememetal', 'fado',\n",
       "       'fairytail', 'film', 'fitness', 'flamenco', 'folk', 'folklore',\n",
       "       'folkmetal', 'folkrock', 'folktronica', 'forró', 'frankreich',\n",
       "       'französisch', 'french', 'funk', 'future', 'gangsta', 'garage',\n",
       "       'german', 'ghazal', 'gitarre', 'glitch', 'gospel', 'gothic',\n",
       "       'grime', 'grunge', 'gypsy', 'handsup', \"hard'n'heavy\", 'hardcore',\n",
       "       'hardstyle', 'hardtechno', 'hip', 'hip-hop', 'hiphop',\n",
       "       'historisch', 'holiday', 'hop', 'horror', 'house', 'hymn', 'idm',\n",
       "       'independent', 'indian', 'indie', 'indipop', 'industrial',\n",
       "       'inspirational', 'instrumental', 'international', 'irish', 'jam',\n",
       "       'japanese', 'jazz', 'jewish', 'jpop', 'jungle', 'k-pop',\n",
       "       'karadeniz', 'karaoke', 'kayokyoku', 'korean', 'laiko', 'latin',\n",
       "       'latino', 'leftfield', 'local', 'lounge', 'loungeelectronic',\n",
       "       'lovers', 'malaysian', 'mandopop', 'marschmusik', 'meditative',\n",
       "       'mediterranean', 'melodic', 'metal', 'metalcore', 'mexican',\n",
       "       'middle', 'minimal', 'miscellaneous', 'modern', 'mood', 'mpb',\n",
       "       'muslim', 'native', 'neoklassik', 'neue', 'new', 'newage',\n",
       "       'newwave', 'nu', 'nujazz', 'numetal', 'oceania', 'old', 'opera',\n",
       "       'orchestral', 'other', 'piano', 'podcasts', 'pop', 'popdance',\n",
       "       'popelectronic', 'popeurodance', 'poprussian', 'post',\n",
       "       'posthardcore', 'postrock', 'power', 'progmetal', 'progressive',\n",
       "       'psychedelic', 'punjabi', 'punk', 'quebecois', 'ragga', 'ram',\n",
       "       'rancheras', 'rap', 'rave', 'reggae', 'reggaeton', 'regional',\n",
       "       'relax', 'religious', 'retro', 'rhythm', 'rnb', 'rnr', 'rock',\n",
       "       'rockabilly', 'rockalternative', 'rockindie', 'rockother',\n",
       "       'romance', 'roots', 'ruspop', 'rusrap', 'rusrock', 'russian',\n",
       "       'salsa', 'samba', 'scenic', 'schlager', 'self', 'sertanejo',\n",
       "       'shanson', 'shoegazing', 'showtunes', 'singer', 'ska', 'skarock',\n",
       "       'slow', 'smooth', 'soft', 'soul', 'soulful', 'sound', 'soundtrack',\n",
       "       'southern', 'specialty', 'speech', 'spiritual', 'sport',\n",
       "       'stonerrock', 'surf', 'swing', 'synthpop', 'synthrock',\n",
       "       'sängerportrait', 'tango', 'tanzorchester', 'taraftar', 'tatar',\n",
       "       'tech', 'techno', 'teen', 'thrash', 'top', 'traditional',\n",
       "       'tradjazz', 'trance', 'tribal', 'trip', 'triphop', 'tropical',\n",
       "       'türk', 'türkçe', 'ukrrock', 'unknown', 'urban', 'uzbek',\n",
       "       'variété', 'vi', 'videogame', 'vocal', 'western', 'world',\n",
       "       'worldbeat', 'ïîï', 'электроника'], dtype=object)"
      ]
     },
     "execution_count": 14,
     "metadata": {},
     "output_type": "execute_result"
    }
   ],
   "source": [
    "# Просмотр уникальных названий жанров\n",
    "\n",
    "df['genre'].sort_values().unique()"
   ]
  },
  {
   "cell_type": "markdown",
   "metadata": {
    "id": "qej-Qmuo_Zct"
   },
   "source": [
    "Просмотрим список и найдём неявные дубликаты названия `hiphop`. Это могут быть названия с ошибками или альтернативные названия того же жанра.\n",
    "\n",
    "Чтобы очистить от них таблицу, напишем функцию `replace_wrong_genres()` с двумя параметрами: \n",
    "* `wrong_genres` — список дубликатов,\n",
    "* `correct_genre` — строка с правильным значением.\n",
    "\n",
    "Функция должна исправить колонку `genre` в таблице `df`: заменить каждое значение из списка `wrong_genres` на значение из `correct_genre`."
   ]
  },
  {
   "cell_type": "code",
   "execution_count": 15,
   "metadata": {
    "id": "ErNDkmns_Zct"
   },
   "outputs": [],
   "source": [
    "# функция для замены неявных дубликатов\n",
    "def replace_wrong_genres(wrong_genres, correct_genres):\n",
    "    for wrong_genre in wrong_genres:\n",
    "        df['genre'] = df['genre'].replace(wrong_genre, correct_genres)"
   ]
  },
  {
   "cell_type": "markdown",
   "metadata": {
    "id": "aDoBJxbA_Zct"
   },
   "source": [
    "Вызовем `replace_wrong_genres()` и передадим ей такие аргументы, чтобы она устранила неявные дубликаты: вместо `hip`, `hop` и `hip-hop` в таблице должно быть значение `hiphop`:"
   ]
  },
  {
   "cell_type": "code",
   "execution_count": 16,
   "metadata": {
    "id": "YN5i2hpmSo09"
   },
   "outputs": [],
   "source": [
    "# исправить неявные дубликаты\n",
    "wrong_genre_list = ['hip', 'hop', 'hip-hop']\n",
    "correct_genre_list = 'hiphop'\n",
    "\n",
    "replace_wrong_genres(wrong_genre_list, correct_genre_list)"
   ]
  },
  {
   "cell_type": "markdown",
   "metadata": {
    "id": "zQKF16_RG15m"
   },
   "source": [
    "Проверим, что заменили неправильные названия:\n",
    "\n",
    "*   hip\n",
    "*   hop\n",
    "*   hip-hop\n",
    "\n",
    "Выведем отсортированный список уникальных значений столбца `genre`:"
   ]
  },
  {
   "cell_type": "code",
   "execution_count": 17,
   "metadata": {
    "id": "wvixALnFG15m"
   },
   "outputs": [
    {
     "data": {
      "text/plain": [
       "array(['acid', 'acoustic', 'action', 'adult', 'africa', 'afrikaans',\n",
       "       'alternative', 'alternativepunk', 'ambient', 'americana',\n",
       "       'animated', 'anime', 'arabesk', 'arabic', 'arena',\n",
       "       'argentinetango', 'art', 'audiobook', 'author', 'avantgarde',\n",
       "       'axé', 'baile', 'balkan', 'beats', 'bigroom', 'black', 'bluegrass',\n",
       "       'blues', 'bollywood', 'bossa', 'brazilian', 'breakbeat', 'breaks',\n",
       "       'broadway', 'cantautori', 'cantopop', 'canzone', 'caribbean',\n",
       "       'caucasian', 'celtic', 'chamber', 'chanson', 'children', 'chill',\n",
       "       'chinese', 'choral', 'christian', 'christmas', 'classical',\n",
       "       'classicmetal', 'club', 'colombian', 'comedy', 'conjazz',\n",
       "       'contemporary', 'country', 'cuban', 'dance', 'dancehall',\n",
       "       'dancepop', 'dark', 'death', 'deep', 'deutschrock', 'deutschspr',\n",
       "       'dirty', 'disco', 'dnb', 'documentary', 'downbeat', 'downtempo',\n",
       "       'drum', 'dub', 'dubstep', 'eastern', 'easy', 'electronic',\n",
       "       'electropop', 'emo', 'entehno', 'epicmetal', 'estrada', 'ethnic',\n",
       "       'eurofolk', 'european', 'experimental', 'extrememetal', 'fado',\n",
       "       'fairytail', 'film', 'fitness', 'flamenco', 'folk', 'folklore',\n",
       "       'folkmetal', 'folkrock', 'folktronica', 'forró', 'frankreich',\n",
       "       'französisch', 'french', 'funk', 'future', 'gangsta', 'garage',\n",
       "       'german', 'ghazal', 'gitarre', 'glitch', 'gospel', 'gothic',\n",
       "       'grime', 'grunge', 'gypsy', 'handsup', \"hard'n'heavy\", 'hardcore',\n",
       "       'hardstyle', 'hardtechno', 'hiphop', 'historisch', 'holiday',\n",
       "       'horror', 'house', 'hymn', 'idm', 'independent', 'indian', 'indie',\n",
       "       'indipop', 'industrial', 'inspirational', 'instrumental',\n",
       "       'international', 'irish', 'jam', 'japanese', 'jazz', 'jewish',\n",
       "       'jpop', 'jungle', 'k-pop', 'karadeniz', 'karaoke', 'kayokyoku',\n",
       "       'korean', 'laiko', 'latin', 'latino', 'leftfield', 'local',\n",
       "       'lounge', 'loungeelectronic', 'lovers', 'malaysian', 'mandopop',\n",
       "       'marschmusik', 'meditative', 'mediterranean', 'melodic', 'metal',\n",
       "       'metalcore', 'mexican', 'middle', 'minimal', 'miscellaneous',\n",
       "       'modern', 'mood', 'mpb', 'muslim', 'native', 'neoklassik', 'neue',\n",
       "       'new', 'newage', 'newwave', 'nu', 'nujazz', 'numetal', 'oceania',\n",
       "       'old', 'opera', 'orchestral', 'other', 'piano', 'podcasts', 'pop',\n",
       "       'popdance', 'popelectronic', 'popeurodance', 'poprussian', 'post',\n",
       "       'posthardcore', 'postrock', 'power', 'progmetal', 'progressive',\n",
       "       'psychedelic', 'punjabi', 'punk', 'quebecois', 'ragga', 'ram',\n",
       "       'rancheras', 'rap', 'rave', 'reggae', 'reggaeton', 'regional',\n",
       "       'relax', 'religious', 'retro', 'rhythm', 'rnb', 'rnr', 'rock',\n",
       "       'rockabilly', 'rockalternative', 'rockindie', 'rockother',\n",
       "       'romance', 'roots', 'ruspop', 'rusrap', 'rusrock', 'russian',\n",
       "       'salsa', 'samba', 'scenic', 'schlager', 'self', 'sertanejo',\n",
       "       'shanson', 'shoegazing', 'showtunes', 'singer', 'ska', 'skarock',\n",
       "       'slow', 'smooth', 'soft', 'soul', 'soulful', 'sound', 'soundtrack',\n",
       "       'southern', 'specialty', 'speech', 'spiritual', 'sport',\n",
       "       'stonerrock', 'surf', 'swing', 'synthpop', 'synthrock',\n",
       "       'sängerportrait', 'tango', 'tanzorchester', 'taraftar', 'tatar',\n",
       "       'tech', 'techno', 'teen', 'thrash', 'top', 'traditional',\n",
       "       'tradjazz', 'trance', 'tribal', 'trip', 'triphop', 'tropical',\n",
       "       'türk', 'türkçe', 'ukrrock', 'unknown', 'urban', 'uzbek',\n",
       "       'variété', 'vi', 'videogame', 'vocal', 'western', 'world',\n",
       "       'worldbeat', 'ïîï', 'электроника'], dtype=object)"
      ]
     },
     "execution_count": 17,
     "metadata": {},
     "output_type": "execute_result"
    }
   ],
   "source": [
    "# Проверка на неявные дубликаты\n",
    "df['genre'].sort_values().unique()"
   ]
  },
  {
   "cell_type": "markdown",
   "metadata": {
    "id": "jz6a9-7HQUDd"
   },
   "source": [
    "**Выводы**\n",
    "\n",
    "Предобработка обнаружила три проблемы в данных:\n",
    "\n",
    "- нарушения в стиле заголовков,\n",
    "- пропущенные значения,\n",
    "- дубликаты — явные и неявные.\n",
    "\n",
    "Заголовки были исправлены, чтобы упростить работу с таблицей. Без дубликатов исследование станет более точным.\n",
    "\n",
    "Пропущенные значения были заменены на `'unknown'`. Ещё предстоит увидеть, не повредят ли исследованию пропуски в колонке `genre`.\n",
    "\n",
    "Теперь можно перейти к проверке гипотез. "
   ]
  },
  {
   "cell_type": "markdown",
   "metadata": {
    "id": "WttZHXH0SqKk"
   },
   "source": [
    "## Проверка гипотез"
   ]
  },
  {
   "cell_type": "markdown",
   "metadata": {
    "id": "Im936VVi_Zcu"
   },
   "source": [
    "### Сравнение поведения пользователей двух столиц"
   ]
  },
  {
   "cell_type": "markdown",
   "metadata": {
    "id": "nwt_MuaL_Zcu"
   },
   "source": [
    "Первая гипотеза утверждает, что пользователи по-разному слушают музыку в Москве и Санкт-Петербурге. Проверьте это предположение по данным о трёх днях недели — понедельнике, среде и пятнице. Для этого:\n",
    "\n",
    "* Разделим пользователей Москвы и Санкт-Петербурга\n",
    "* Сравним, сколько треков послушала каждая группа пользователей в понедельник, среду и пятницу."
   ]
  },
  {
   "cell_type": "markdown",
   "metadata": {
    "id": "8Dw_YMmT_Zcu"
   },
   "source": [
    "Для тренировки сначала выполним каждый из расчётов по отдельности. \n",
    "\n",
    "Оценим активность пользователей в каждом городе. Сгруппируем данные по городу и посчитаем прослушивания в каждой группе."
   ]
  },
  {
   "cell_type": "code",
   "execution_count": 35,
   "metadata": {
    "id": "0_Qs96oh_Zcu"
   },
   "outputs": [
    {
     "data": {
      "text/html": [
       "<div>\n",
       "<style scoped>\n",
       "    .dataframe tbody tr th:only-of-type {\n",
       "        vertical-align: middle;\n",
       "    }\n",
       "\n",
       "    .dataframe tbody tr th {\n",
       "        vertical-align: top;\n",
       "    }\n",
       "\n",
       "    .dataframe thead th {\n",
       "        text-align: right;\n",
       "    }\n",
       "</style>\n",
       "<table border=\"1\" class=\"dataframe\">\n",
       "  <thead>\n",
       "    <tr style=\"text-align: right;\">\n",
       "      <th></th>\n",
       "      <th>scrobbles_by_city</th>\n",
       "    </tr>\n",
       "    <tr>\n",
       "      <th>city</th>\n",
       "      <th></th>\n",
       "    </tr>\n",
       "  </thead>\n",
       "  <tbody>\n",
       "    <tr>\n",
       "      <th>Moscow</th>\n",
       "      <td>45360</td>\n",
       "    </tr>\n",
       "    <tr>\n",
       "      <th>Saint-Petersburg</th>\n",
       "      <td>19719</td>\n",
       "    </tr>\n",
       "  </tbody>\n",
       "</table>\n",
       "</div>"
      ],
      "text/plain": [
       "                  scrobbles_by_city\n",
       "city                               \n",
       "Moscow                        45360\n",
       "Saint-Petersburg              19719"
      ]
     },
     "execution_count": 35,
     "metadata": {},
     "output_type": "execute_result"
    }
   ],
   "source": [
    "# Подсчёт прослушиваний в каждом городе\n",
    "df.groupby('city').agg(scrobbles_by_city=('user_id', 'count'))"
   ]
  },
  {
   "cell_type": "markdown",
   "metadata": {
    "id": "dzli3w8o_Zcu"
   },
   "source": [
    "В Москве прослушиваний больше, чем в Петербурге. Из этого не следует, что московские пользователи чаще слушают музыку. Просто самих пользователей в Москве больше.\n",
    "\n",
    "Теперь сгруппируем данные по дню недели и посчитаем прослушивания в понедельник, среду и пятницу. Учтём, что в данных есть информация только о прослушиваниях только за эти дни."
   ]
  },
  {
   "cell_type": "code",
   "execution_count": 34,
   "metadata": {
    "id": "uZMKjiJz_Zcu"
   },
   "outputs": [
    {
     "data": {
      "text/html": [
       "<div>\n",
       "<style scoped>\n",
       "    .dataframe tbody tr th:only-of-type {\n",
       "        vertical-align: middle;\n",
       "    }\n",
       "\n",
       "    .dataframe tbody tr th {\n",
       "        vertical-align: top;\n",
       "    }\n",
       "\n",
       "    .dataframe thead th {\n",
       "        text-align: right;\n",
       "    }\n",
       "</style>\n",
       "<table border=\"1\" class=\"dataframe\">\n",
       "  <thead>\n",
       "    <tr style=\"text-align: right;\">\n",
       "      <th></th>\n",
       "      <th>scrobbles_by_weekday</th>\n",
       "    </tr>\n",
       "    <tr>\n",
       "      <th>day</th>\n",
       "      <th></th>\n",
       "    </tr>\n",
       "  </thead>\n",
       "  <tbody>\n",
       "    <tr>\n",
       "      <th>Friday</th>\n",
       "      <td>23149</td>\n",
       "    </tr>\n",
       "    <tr>\n",
       "      <th>Monday</th>\n",
       "      <td>22697</td>\n",
       "    </tr>\n",
       "    <tr>\n",
       "      <th>Wednesday</th>\n",
       "      <td>19233</td>\n",
       "    </tr>\n",
       "  </tbody>\n",
       "</table>\n",
       "</div>"
      ],
      "text/plain": [
       "           scrobbles_by_weekday\n",
       "day                            \n",
       "Friday                    23149\n",
       "Monday                    22697\n",
       "Wednesday                 19233"
      ]
     },
     "execution_count": 34,
     "metadata": {},
     "output_type": "execute_result"
    }
   ],
   "source": [
    "# Подсчёт прослушиваний в каждый из трёх дней\n",
    "df.groupby('day').agg(scrobbles_by_weekday=('day', 'count'))"
   ]
  },
  {
   "cell_type": "markdown",
   "metadata": {
    "id": "cC2tNrlL_Zcu"
   },
   "source": [
    "В среднем пользователи из двух городов менее активны по средам. Но картина может измениться, если рассмотреть каждый город в отдельности."
   ]
  },
  {
   "cell_type": "markdown",
   "metadata": {
    "id": "POzs8bGa_Zcu"
   },
   "source": [
    "Создадим функцию `number_tracks()`, которая посчитает прослушивания для заданного дня и города. Два параметра:\n",
    "* день недели,\n",
    "* название города.\n",
    "\n",
    "В функции сохраним в переменную строки исходной таблицы, у которых значение:\n",
    "  * в колонке `day` равно параметру `day`,\n",
    "  * в колонке `city` равно параметру `city`.\n",
    "\n",
    "Для этого примените последовательную фильтрацию с логической индексацией.\n",
    "\n",
    "Затем посчитаем значения в столбце `user_id` получившейся таблицы. Результат сохраним в новую переменную. Вернём эту переменную из функции."
   ]
  },
  {
   "cell_type": "code",
   "execution_count": 20,
   "metadata": {
    "id": "Nz3GdQB1_Zcu"
   },
   "outputs": [],
   "source": [
    "# создать функцию для подсчёта количество прослушиваний пр городам и дням недели\n",
    "def  number_tracks(day, city):\n",
    "    track_list = df[(df['day'] == day) &\n",
    "                    (df['city'] == city)]\n",
    "    track_list_count = track_list['user_id'].count()\n",
    "    return track_list_count"
   ]
  },
  {
   "cell_type": "markdown",
   "metadata": {
    "id": "ytf7xFrFJQ2r"
   },
   "source": [
    "Вызовим `number_tracks()` шесть раз, меняя значение параметров — так, чтобы получить данные для каждого города в каждый из трёх дней."
   ]
  },
  {
   "cell_type": "markdown",
   "metadata": {
    "id": "7QXffbO-_Zcu"
   },
   "source": [
    "Создадим c помощью конструктора `pd.DataFrame` таблицу, где\n",
    "* названия колонок — `['city', 'monday', 'wednesday', 'friday']`;\n",
    "* данные — результаты, которые вы получили с помощью `number_tracks`."
   ]
  },
  {
   "cell_type": "code",
   "execution_count": 21,
   "metadata": {},
   "outputs": [
    {
     "data": {
      "text/html": [
       "<div>\n",
       "<style scoped>\n",
       "    .dataframe tbody tr th:only-of-type {\n",
       "        vertical-align: middle;\n",
       "    }\n",
       "\n",
       "    .dataframe tbody tr th {\n",
       "        vertical-align: top;\n",
       "    }\n",
       "\n",
       "    .dataframe thead th {\n",
       "        text-align: right;\n",
       "    }\n",
       "</style>\n",
       "<table border=\"1\" class=\"dataframe\">\n",
       "  <thead>\n",
       "    <tr style=\"text-align: right;\">\n",
       "      <th></th>\n",
       "      <th>Monday</th>\n",
       "      <th>Wednesday</th>\n",
       "      <th>Friday</th>\n",
       "    </tr>\n",
       "  </thead>\n",
       "  <tbody>\n",
       "    <tr>\n",
       "      <th>Saint-Petersburg</th>\n",
       "      <td>5982</td>\n",
       "      <td>7478</td>\n",
       "      <td>6259</td>\n",
       "    </tr>\n",
       "    <tr>\n",
       "      <th>Moscow</th>\n",
       "      <td>16715</td>\n",
       "      <td>11755</td>\n",
       "      <td>16890</td>\n",
       "    </tr>\n",
       "  </tbody>\n",
       "</table>\n",
       "</div>"
      ],
      "text/plain": [
       "                 Monday Wednesday Friday\n",
       "Saint-Petersburg   5982      7478   6259\n",
       "Moscow            16715     11755  16890"
      ]
     },
     "execution_count": 21,
     "metadata": {},
     "output_type": "execute_result"
    }
   ],
   "source": [
    "# записать в переменную города и дни\n",
    "cities = df.city.unique().tolist()\n",
    "day_of_week = df.day.unique().tolist()\n",
    "\n",
    "# создать датафрейм с \n",
    "t = pd.DataFrame(index=cities, columns=day_of_week)\n",
    "\n",
    "# все комбинации дней и городов\n",
    "all_combinations = [\n",
    "    cities,\n",
    "    day_of_week,\n",
    "]\n",
    "\n",
    "# заполнить таблицу\n",
    "for city, day in list(itertools.product(*all_combinations)):\n",
    "    t.loc[city, day] = number_tracks(day, city)\n",
    "    \n",
    "# переупорядочить\n",
    "t.reindex(['Monday', 'Wednesday', 'Friday'], axis='columns')"
   ]
  },
  {
   "cell_type": "markdown",
   "metadata": {
    "id": "-EgPIHYu_Zcu"
   },
   "source": [
    "**Выводы**\n",
    "\n",
    "Данные показывают разницу поведения пользователей:\n",
    "\n",
    "- В Москве пик прослушиваний приходится на понедельник и пятницу, а в среду заметен спад.\n",
    "- В Петербурге, наоборот, больше слушают музыку по средам. Активность в понедельник и пятницу здесь почти в равной мере уступает среде.\n",
    "\n",
    "Значит, данные говорят в пользу первой гипотезы."
   ]
  },
  {
   "cell_type": "markdown",
   "metadata": {
    "id": "atZAxtq4_Zcu"
   },
   "source": [
    "### Музыка в начале и в конце недели"
   ]
  },
  {
   "cell_type": "markdown",
   "metadata": {
    "id": "eXrQqXFH_Zcu"
   },
   "source": [
    "Согласно второй гипотезе, утром в понедельник в Москве преобладают одни жанры, а в Петербурге — другие. Так же и вечером пятницы преобладают разные жанры — в зависимости от города."
   ]
  },
  {
   "cell_type": "markdown",
   "metadata": {
    "id": "S8UcW6Hw_Zcu"
   },
   "source": [
    "Сохраним таблицы с данными в две переменные:\n",
    "* по Москве — в `moscow_general`;\n",
    "* по Санкт-Петербургу — в `spb_general`."
   ]
  },
  {
   "cell_type": "code",
   "execution_count": 22,
   "metadata": {
    "id": "qeaFfM_P_Zcu"
   },
   "outputs": [],
   "source": [
    "# получение таблицы moscow_general из тех строк таблицы df, \n",
    "# для которых значение в столбце 'city' равно 'Moscow'\n",
    "\n",
    "moscow_general = df[df['city'] == 'Moscow']"
   ]
  },
  {
   "cell_type": "code",
   "execution_count": 23,
   "metadata": {
    "id": "ORaVRKto_Zcu"
   },
   "outputs": [],
   "source": [
    "# получение таблицы spb_general из тех строк таблицы df,\n",
    "# для которых значение в столбце 'city' равно 'Saint-Petersburg'\n",
    "\n",
    "spb_general = df[df['city'] == 'Saint-Petersburg']"
   ]
  },
  {
   "cell_type": "markdown",
   "metadata": {
    "id": "MEJV-CX2_Zcu"
   },
   "source": [
    "Создадим функцию `genre_weekday()` с четырьмя параметрами:\n",
    "* таблица (датафрейм) с данными,\n",
    "* день недели,\n",
    "* начальная временная метка в формате 'hh:mm', \n",
    "* последняя временная метка в формате 'hh:mm'.\n",
    "\n",
    "Функция должна вернуть информацию о топ-10 жанров тех треков, которые прослушивали в указанный день, в промежутке между двумя отметками времени."
   ]
  },
  {
   "cell_type": "code",
   "execution_count": 24,
   "metadata": {
    "id": "laJT9BYl_Zcu"
   },
   "outputs": [],
   "source": [
    "# Объявление функции genre_weekday() с параметрами table, day, time1, time2,\n",
    "\n",
    "def genre_weekday(table, day, time1, time2):\n",
    "    genre_df = table[(table['day'] == day) & \n",
    "                     (table['time'] >= time1) &\n",
    "                     (table['time'] <= time2)]\n",
    "    genre_df_sorted = genre_df.groupby('genre')['genre'].count().sort_values(ascending=False)\n",
    "    return genre_df_sorted.head(10)"
   ]
  },
  {
   "cell_type": "markdown",
   "metadata": {
    "id": "la2s2_PF_Zcu"
   },
   "source": [
    "Cравним результаты функции `genre_weekday()` для Москвы и Санкт-Петербурга в понедельник утром (с 7:00 до 11:00) и в пятницу вечером (с 17:00 до 23:00):"
   ]
  },
  {
   "cell_type": "code",
   "execution_count": 25,
   "metadata": {
    "id": "yz7itPUQ_Zcu"
   },
   "outputs": [
    {
     "data": {
      "text/plain": [
       "genre\n",
       "pop            830\n",
       "dance          589\n",
       "rock           511\n",
       "electronic     501\n",
       "hiphop         311\n",
       "ruspop         203\n",
       "world          190\n",
       "rusrap         188\n",
       "alternative    175\n",
       "unknown        172\n",
       "Name: genre, dtype: int64"
      ]
     },
     "execution_count": 25,
     "metadata": {},
     "output_type": "execute_result"
    }
   ],
   "source": [
    "# вызов функции для утра понедельника в Москве (вместо df — таблица moscow_general)\n",
    "# объекты, хранящие время, являются строками и сравниваются как строки\n",
    "# пример вызова: genre_weekday(moscow_general, 'Monday', '07:00', '11:00')\n",
    "\n",
    "genre_weekday(moscow_general, 'Monday', '07:00', '11:00')"
   ]
  },
  {
   "cell_type": "code",
   "execution_count": 26,
   "metadata": {
    "id": "kwUcHPdy_Zcu"
   },
   "outputs": [
    {
     "data": {
      "text/plain": [
       "genre\n",
       "pop            238\n",
       "dance          192\n",
       "rock           173\n",
       "electronic     154\n",
       "hiphop          88\n",
       "ruspop          68\n",
       "alternative     65\n",
       "rusrap          56\n",
       "jazz            47\n",
       "classical       42\n",
       "Name: genre, dtype: int64"
      ]
     },
     "execution_count": 26,
     "metadata": {},
     "output_type": "execute_result"
    }
   ],
   "source": [
    "# вызов функции для утра понедельника в Петербурге (вместо df — таблица spb_general)\n",
    "\n",
    "genre_weekday(spb_general, 'Monday', '07:00', '11:00')"
   ]
  },
  {
   "cell_type": "code",
   "execution_count": 27,
   "metadata": {
    "id": "EzXVRE1o_Zcu"
   },
   "outputs": [
    {
     "data": {
      "text/plain": [
       "genre\n",
       "pop            761\n",
       "rock           546\n",
       "dance          521\n",
       "electronic     510\n",
       "hiphop         282\n",
       "world          220\n",
       "ruspop         184\n",
       "alternative    176\n",
       "classical      171\n",
       "rusrap         151\n",
       "Name: genre, dtype: int64"
      ]
     },
     "execution_count": 27,
     "metadata": {},
     "output_type": "execute_result"
    }
   ],
   "source": [
    "# вызов функции для вечера пятницы в Москве\n",
    "genre_weekday(moscow_general, 'Friday', '17:00', '23:00')"
   ]
  },
  {
   "cell_type": "code",
   "execution_count": 28,
   "metadata": {
    "id": "JZaEKu5v_Zcu"
   },
   "outputs": [
    {
     "data": {
      "text/plain": [
       "genre\n",
       "pop            279\n",
       "rock           230\n",
       "electronic     227\n",
       "dance          221\n",
       "hiphop         103\n",
       "alternative     67\n",
       "jazz            66\n",
       "rusrap          66\n",
       "classical       64\n",
       "world           60\n",
       "Name: genre, dtype: int64"
      ]
     },
     "execution_count": 28,
     "metadata": {},
     "output_type": "execute_result"
    }
   ],
   "source": [
    "# вызов функции для вечера пятницы в Петербурге\n",
    "genre_weekday(spb_general, 'Friday', '17:00', '23:00')"
   ]
  },
  {
   "cell_type": "markdown",
   "metadata": {
    "id": "wrCe4MNX_Zcu"
   },
   "source": [
    "**Выводы**\n",
    "\n",
    "Если сравнить топ-10 жанров в понедельник утром, можно сделать такие выводы:\n",
    "\n",
    "1. В Москве и Петербурге слушают похожую музыку. Единственное отличие — в московский рейтинг вошёл жанр “world”, а в петербургский — джаз и классика.\n",
    "\n",
    "2. В Москве пропущенных значений оказалось так много, что значение `'unknown'` заняло десятое место среди самых популярных жанров. Значит, пропущенные значения занимают существенную долю в данных и угрожают достоверности исследования.\n",
    "\n",
    "Вечер пятницы не меняет эту картину. Некоторые жанры поднимаются немного выше, другие спускаются, но в целом топ-10 остаётся тем же самым.\n",
    "\n",
    "Таким образом, вторая гипотеза подтвердилась лишь частично:\n",
    "* Пользователи слушают похожую музыку в начале недели и в конце.\n",
    "* Разница между Москвой и Петербургом не слишком выражена. В Москве чаще слушают русскую популярную музыку, в Петербурге — джаз.\n",
    "\n",
    "Однако пропуски в данных ставят под сомнение этот результат. В Москве их так много, что рейтинг топ-10 мог бы выглядеть иначе, если бы не утерянные  данные о жанрах."
   ]
  },
  {
   "cell_type": "markdown",
   "metadata": {
    "id": "JolODAqr_Zcu"
   },
   "source": [
    "### Жанровые предпочтения в Москве и Петербурге\n",
    "\n",
    "Гипотеза: Петербург — столица рэпа, музыку этого жанра там слушают чаще, чем в Москве.  А Москва — город контрастов, в котором, тем не менее, преобладает поп-музыка."
   ]
  },
  {
   "cell_type": "markdown",
   "metadata": {
    "id": "DlegSvaT_Zcu"
   },
   "source": [
    "Сгруппируем таблицу `moscow_general` по жанру и посчитаем прослушивания треков каждого жанра методом `count()`. Затем отсортируем результат в порядке убывания и сохраним его в таблице `moscow_genres`."
   ]
  },
  {
   "cell_type": "code",
   "execution_count": 29,
   "metadata": {
    "id": "r19lIPke_Zcu"
   },
   "outputs": [],
   "source": [
    "# одной строкой: группировка таблицы moscow_general по столбцу 'genre', \n",
    "# подсчёт числа значений 'genre' в этой группировке методом count(), \n",
    "# сортировка получившегося Series в порядке убывания и сохранение в moscow_genres\n",
    "\n",
    "moscow_genres = moscow_general.groupby('genre')['genre'].count().sort_values(ascending=False)"
   ]
  },
  {
   "cell_type": "markdown",
   "metadata": {
    "id": "6kMuomxTiIr8"
   },
   "source": [
    "Выведем первые десять строк `moscow_genres`:"
   ]
  },
  {
   "cell_type": "code",
   "execution_count": 30,
   "metadata": {
    "id": "WhCSooF8_Zcv"
   },
   "outputs": [
    {
     "data": {
      "text/plain": [
       "genre\n",
       "pop            6253\n",
       "dance          4707\n",
       "rock           4188\n",
       "electronic     4010\n",
       "hiphop         2215\n",
       "classical      1712\n",
       "world          1516\n",
       "alternative    1466\n",
       "ruspop         1453\n",
       "rusrap         1239\n",
       "Name: genre, dtype: int64"
      ]
     },
     "execution_count": 30,
     "metadata": {},
     "output_type": "execute_result"
    }
   ],
   "source": [
    "# просмотр первых 10 строк moscow_genres\n",
    "\n",
    "moscow_genres.head(10)"
   ]
  },
  {
   "cell_type": "markdown",
   "metadata": {
    "id": "cnPG2vnN_Zcv"
   },
   "source": [
    "Теперь повторим то же и для Петербурга.\n",
    "\n",
    "Сгруппируем таблицу `spb_general` по жанру. Посчитайем прослушивания треков каждого жанра. Результат отсортируем в порядке убывания и сохраним в таблице `spb_genres`:"
   ]
  },
  {
   "cell_type": "code",
   "execution_count": 31,
   "metadata": {
    "id": "gluLIpE7_Zcv"
   },
   "outputs": [],
   "source": [
    "# одной строкой: группировка таблицы spb_general по столбцу 'genre', \n",
    "# подсчёт числа значений 'genre' в этой группировке методом count(), \n",
    "# сортировка получившегося Series в порядке убывания и сохранение в spb_genres\n",
    "\n",
    "spb_genres = spb_general.groupby('genre')['genre'].count().sort_values(ascending=False)"
   ]
  },
  {
   "cell_type": "markdown",
   "metadata": {
    "id": "5Doha_ODgyQ8"
   },
   "source": [
    "Выведем на экран первые десять строк `spb_genres`:"
   ]
  },
  {
   "cell_type": "code",
   "execution_count": 32,
   "metadata": {
    "id": "uaGJHjVU_Zcv"
   },
   "outputs": [
    {
     "data": {
      "text/plain": [
       "genre\n",
       "pop            2597\n",
       "dance          2054\n",
       "rock           2004\n",
       "electronic     1842\n",
       "hiphop         1020\n",
       "alternative     700\n",
       "classical       684\n",
       "rusrap          604\n",
       "ruspop          565\n",
       "world           553\n",
       "Name: genre, dtype: int64"
      ]
     },
     "execution_count": 32,
     "metadata": {},
     "output_type": "execute_result"
    }
   ],
   "source": [
    "# просмотр первых 10 строк spb_genres\n",
    "\n",
    "spb_genres.head(10)"
   ]
  },
  {
   "cell_type": "markdown",
   "metadata": {
    "id": "RY51YJYu_Zcv"
   },
   "source": [
    "**Выводы**"
   ]
  },
  {
   "cell_type": "markdown",
   "metadata": {
    "id": "nVhnJEm__Zcv"
   },
   "source": [
    "Гипотеза частично подтвердилась:\n",
    "* Поп-музыка — самый популярный жанр в Москве, как и предполагала гипотеза. Более того, в топ-10 жанров встречается близкий жанр — русская популярная музыка.\n",
    "* Вопреки ожиданиям, рэп одинаково популярен в Москве и Петербурге. \n"
   ]
  },
  {
   "cell_type": "markdown",
   "metadata": {
    "id": "ykKQ0N65_Zcv"
   },
   "source": [
    "## Итоги исследования"
   ]
  },
  {
   "cell_type": "markdown",
   "metadata": {
    "id": "tjUwbHb3_Zcv"
   },
   "source": [
    "Были проверены три гипотезы.\n",
    "\n",
    "- День недели по-разному влияет на активность пользователей в Москве и Петербурге. \n",
    "\n",
    "Первая гипотеза полностью подтвердилась.\n",
    "\n",
    "- Музыкальные предпочтения не сильно меняются в течение недели — будь то Москва или Петербург. Небольшие различия заметны в начале недели, по понедельникам:\n",
    "    * в Москве слушают музыку жанра “world”,\n",
    "    * в Петербурге — джаз и классику.\n",
    "\n",
    "Таким образом, вторая гипотеза подтвердилась лишь отчасти. Этот результат мог оказаться иным, если бы не пропуски в данных.\n",
    "\n",
    "- Во вкусах пользователей Москвы и Петербурга больше общего чем различий. Вопреки ожиданиям, предпочтения жанров в Петербурге напоминают московские.\n",
    "\n",
    "Третья гипотеза не подтвердилась. Если различия в предпочтениях и существуют, на основной массе пользователей они незаметны.\n",
    "\n",
    "**На практике исследования содержат проверки статистических гипотез.**\n",
    "Из данных одного сервиса не всегда можно сделать вывод о всех жителях города.\n",
    "Проверки статистических гипотез покажут, насколько они достоверны, исходя из имеющихся данных. \n",
    "С методами проверок гипотез вы ещё познакомитесь в следующих темах."
   ]
  }
 ],
 "metadata": {
  "ExecuteTimeLog": [
   {
    "duration": 613,
    "start_time": "2021-11-25T01:30:12.738Z"
   },
   {
    "duration": 137,
    "start_time": "2021-11-25T01:30:53.737Z"
   },
   {
    "duration": 148,
    "start_time": "2021-11-25T01:31:05.629Z"
   },
   {
    "duration": 17,
    "start_time": "2021-11-25T01:31:15.478Z"
   },
   {
    "duration": 9,
    "start_time": "2021-11-25T01:31:21.861Z"
   },
   {
    "duration": 10,
    "start_time": "2021-11-25T01:31:25.182Z"
   },
   {
    "duration": 8,
    "start_time": "2021-11-25T01:31:42.067Z"
   },
   {
    "duration": 8,
    "start_time": "2021-11-25T01:31:50.747Z"
   },
   {
    "duration": 8,
    "start_time": "2021-11-25T01:31:56.468Z"
   },
   {
    "duration": 7,
    "start_time": "2021-11-25T01:32:39.875Z"
   },
   {
    "duration": 24,
    "start_time": "2021-11-25T01:32:58.660Z"
   },
   {
    "duration": 24,
    "start_time": "2021-11-25T01:33:11.625Z"
   },
   {
    "duration": 23,
    "start_time": "2021-11-25T01:33:15.714Z"
   },
   {
    "duration": 534,
    "start_time": "2021-11-25T01:34:17.375Z"
   },
   {
    "duration": 563,
    "start_time": "2021-11-25T01:34:32.647Z"
   },
   {
    "duration": 868,
    "start_time": "2021-11-25T01:34:54.745Z"
   },
   {
    "duration": 1881,
    "start_time": "2021-11-25T01:35:06.856Z"
   },
   {
    "duration": 516,
    "start_time": "2021-11-25T01:35:18.232Z"
   },
   {
    "duration": 926,
    "start_time": "2021-11-25T01:35:22.329Z"
   },
   {
    "duration": 865,
    "start_time": "2021-11-25T01:36:13.670Z"
   },
   {
    "duration": 134,
    "start_time": "2021-11-25T01:43:26.544Z"
   },
   {
    "duration": 142,
    "start_time": "2021-11-25T01:47:21.140Z"
   },
   {
    "duration": 24,
    "start_time": "2021-11-25T01:47:44.378Z"
   },
   {
    "duration": 23,
    "start_time": "2021-11-25T01:47:49.500Z"
   },
   {
    "duration": 24,
    "start_time": "2021-11-25T01:47:54.223Z"
   },
   {
    "duration": 25,
    "start_time": "2021-11-25T01:47:57.136Z"
   },
   {
    "duration": 57,
    "start_time": "2021-11-25T02:30:09.045Z"
   },
   {
    "duration": 52,
    "start_time": "2021-11-25T02:33:27.970Z"
   },
   {
    "duration": 644,
    "start_time": "2021-11-25T02:33:43.934Z"
   },
   {
    "duration": 55,
    "start_time": "2021-11-25T02:35:34.883Z"
   },
   {
    "duration": 893,
    "start_time": "2021-11-25T02:37:11.487Z"
   },
   {
    "duration": 136,
    "start_time": "2021-11-25T02:42:20.262Z"
   },
   {
    "duration": 61,
    "start_time": "2021-11-25T02:42:33.570Z"
   },
   {
    "duration": 17,
    "start_time": "2021-11-25T03:07:43.159Z"
   },
   {
    "duration": 10,
    "start_time": "2021-11-25T03:08:09.146Z"
   },
   {
    "duration": 9,
    "start_time": "2021-11-25T03:08:14.635Z"
   },
   {
    "duration": 5,
    "start_time": "2021-11-25T03:08:32.899Z"
   },
   {
    "duration": 649,
    "start_time": "2021-11-25T03:09:05.764Z"
   },
   {
    "duration": 145,
    "start_time": "2021-11-25T03:09:06.415Z"
   },
   {
    "duration": 18,
    "start_time": "2021-11-25T03:09:06.562Z"
   },
   {
    "duration": 43,
    "start_time": "2021-11-25T03:09:06.583Z"
   },
   {
    "duration": 3,
    "start_time": "2021-11-25T03:09:06.628Z"
   },
   {
    "duration": 9,
    "start_time": "2021-11-25T03:09:06.633Z"
   },
   {
    "duration": 6,
    "start_time": "2021-11-25T03:09:06.644Z"
   },
   {
    "duration": 5,
    "start_time": "2021-11-25T03:09:06.653Z"
   },
   {
    "duration": 5,
    "start_time": "2021-11-25T03:09:06.663Z"
   },
   {
    "duration": 8,
    "start_time": "2021-11-25T03:09:06.670Z"
   },
   {
    "duration": 86,
    "start_time": "2021-11-25T03:09:06.679Z"
   },
   {
    "duration": 2,
    "start_time": "2021-11-25T03:09:06.767Z"
   },
   {
    "duration": 9,
    "start_time": "2021-11-25T03:09:06.770Z"
   },
   {
    "duration": 4,
    "start_time": "2021-11-25T03:09:06.781Z"
   },
   {
    "duration": 20,
    "start_time": "2021-11-25T03:09:06.787Z"
   },
   {
    "duration": 5,
    "start_time": "2021-11-25T03:09:06.809Z"
   },
   {
    "duration": 4,
    "start_time": "2021-11-25T03:09:06.816Z"
   },
   {
    "duration": 8,
    "start_time": "2021-11-25T03:09:06.822Z"
   },
   {
    "duration": 8,
    "start_time": "2021-11-25T03:09:06.831Z"
   },
   {
    "duration": 7,
    "start_time": "2021-11-25T03:09:06.841Z"
   },
   {
    "duration": 7,
    "start_time": "2021-11-25T03:09:06.849Z"
   },
   {
    "duration": 5,
    "start_time": "2021-11-25T03:09:06.857Z"
   },
   {
    "duration": 7,
    "start_time": "2021-11-25T03:09:06.866Z"
   },
   {
    "duration": 32,
    "start_time": "2021-11-25T03:09:06.875Z"
   },
   {
    "duration": 5,
    "start_time": "2021-11-25T03:09:06.909Z"
   },
   {
    "duration": 9,
    "start_time": "2021-11-25T03:09:06.916Z"
   },
   {
    "duration": 5,
    "start_time": "2021-11-25T03:09:06.927Z"
   },
   {
    "duration": 7,
    "start_time": "2021-11-25T03:09:06.934Z"
   },
   {
    "duration": 7,
    "start_time": "2021-11-25T03:09:06.943Z"
   },
   {
    "duration": 6,
    "start_time": "2021-11-25T03:09:06.952Z"
   },
   {
    "duration": 6,
    "start_time": "2021-11-25T03:09:06.960Z"
   },
   {
    "duration": 5,
    "start_time": "2021-11-25T03:09:06.968Z"
   },
   {
    "duration": 6,
    "start_time": "2021-11-25T03:09:06.975Z"
   },
   {
    "duration": 8,
    "start_time": "2021-11-25T03:09:07.007Z"
   },
   {
    "duration": 11,
    "start_time": "2021-11-25T03:09:07.017Z"
   },
   {
    "duration": 6,
    "start_time": "2021-11-25T03:09:07.030Z"
   },
   {
    "duration": 7,
    "start_time": "2021-11-25T03:09:07.037Z"
   },
   {
    "duration": 6,
    "start_time": "2021-11-25T03:09:07.046Z"
   },
   {
    "duration": 57,
    "start_time": "2021-11-25T03:09:22.871Z"
   },
   {
    "duration": 56,
    "start_time": "2021-11-25T03:09:23.560Z"
   },
   {
    "duration": 58,
    "start_time": "2021-11-25T03:11:09.827Z"
   },
   {
    "duration": 649,
    "start_time": "2021-11-25T03:11:24.278Z"
   },
   {
    "duration": 143,
    "start_time": "2021-11-25T03:11:24.929Z"
   },
   {
    "duration": 19,
    "start_time": "2021-11-25T03:11:25.074Z"
   },
   {
    "duration": 29,
    "start_time": "2021-11-25T03:11:25.107Z"
   },
   {
    "duration": 9,
    "start_time": "2021-11-25T03:11:25.138Z"
   },
   {
    "duration": 5,
    "start_time": "2021-11-25T03:11:25.149Z"
   },
   {
    "duration": 4,
    "start_time": "2021-11-25T03:11:25.156Z"
   },
   {
    "duration": 6,
    "start_time": "2021-11-25T03:11:25.164Z"
   },
   {
    "duration": 35,
    "start_time": "2021-11-25T03:11:25.172Z"
   },
   {
    "duration": 9,
    "start_time": "2021-11-25T03:11:25.209Z"
   },
   {
    "duration": 69,
    "start_time": "2021-11-25T03:11:25.220Z"
   },
   {
    "duration": 2,
    "start_time": "2021-11-25T03:11:25.291Z"
   },
   {
    "duration": 13,
    "start_time": "2021-11-25T03:11:25.294Z"
   },
   {
    "duration": 5,
    "start_time": "2021-11-25T03:11:25.309Z"
   },
   {
    "duration": 14,
    "start_time": "2021-11-25T03:11:25.316Z"
   },
   {
    "duration": 20,
    "start_time": "2021-11-25T03:11:25.331Z"
   },
   {
    "duration": 16,
    "start_time": "2021-11-25T03:11:25.353Z"
   },
   {
    "duration": 18,
    "start_time": "2021-11-25T03:11:25.370Z"
   },
   {
    "duration": 12,
    "start_time": "2021-11-25T03:11:25.390Z"
   },
   {
    "duration": 16,
    "start_time": "2021-11-25T03:11:25.404Z"
   },
   {
    "duration": 13,
    "start_time": "2021-11-25T03:11:25.421Z"
   },
   {
    "duration": 12,
    "start_time": "2021-11-25T03:11:25.436Z"
   },
   {
    "duration": 9,
    "start_time": "2021-11-25T03:11:25.452Z"
   },
   {
    "duration": 12,
    "start_time": "2021-11-25T03:11:25.463Z"
   },
   {
    "duration": 11,
    "start_time": "2021-11-25T03:11:25.477Z"
   },
   {
    "duration": 14,
    "start_time": "2021-11-25T03:11:25.490Z"
   },
   {
    "duration": 24,
    "start_time": "2021-11-25T03:11:25.505Z"
   },
   {
    "duration": 11,
    "start_time": "2021-11-25T03:11:25.531Z"
   },
   {
    "duration": 10,
    "start_time": "2021-11-25T03:11:25.544Z"
   },
   {
    "duration": 6,
    "start_time": "2021-11-25T03:11:25.556Z"
   },
   {
    "duration": 14,
    "start_time": "2021-11-25T03:11:25.563Z"
   },
   {
    "duration": 8,
    "start_time": "2021-11-25T03:11:25.578Z"
   },
   {
    "duration": 18,
    "start_time": "2021-11-25T03:11:25.588Z"
   },
   {
    "duration": 15,
    "start_time": "2021-11-25T03:11:25.608Z"
   },
   {
    "duration": 8,
    "start_time": "2021-11-25T03:11:25.624Z"
   },
   {
    "duration": 4,
    "start_time": "2021-11-25T03:11:25.634Z"
   },
   {
    "duration": 6,
    "start_time": "2021-11-25T03:11:25.640Z"
   },
   {
    "duration": 5,
    "start_time": "2021-11-25T03:11:25.647Z"
   },
   {
    "duration": 59,
    "start_time": "2021-11-25T03:11:56.777Z"
   },
   {
    "duration": 398,
    "start_time": "2021-11-25T03:40:38.989Z"
   },
   {
    "duration": 4,
    "start_time": "2021-11-25T03:40:42.225Z"
   },
   {
    "duration": 342,
    "start_time": "2021-11-26T04:42:02.858Z"
   },
   {
    "duration": 288,
    "start_time": "2021-11-26T04:42:20.828Z"
   },
   {
    "duration": 274,
    "start_time": "2021-11-26T04:42:24.315Z"
   },
   {
    "duration": 768,
    "start_time": "2021-11-26T04:42:28.924Z"
   },
   {
    "duration": 1084,
    "start_time": "2021-11-26T04:42:31.292Z"
   },
   {
    "duration": 344,
    "start_time": "2021-11-26T04:44:01.239Z"
   },
   {
    "duration": 942,
    "start_time": "2021-11-27T03:26:04.881Z"
   },
   {
    "duration": 129,
    "start_time": "2021-11-27T03:26:08.665Z"
   },
   {
    "duration": 15,
    "start_time": "2021-11-27T03:26:11.637Z"
   },
   {
    "duration": 25,
    "start_time": "2021-11-27T03:26:27.645Z"
   },
   {
    "duration": 4,
    "start_time": "2021-11-27T03:28:22.048Z"
   },
   {
    "duration": 1035,
    "start_time": "2021-11-27T11:09:24.888Z"
   },
   {
    "duration": 194,
    "start_time": "2021-11-27T11:09:25.926Z"
   },
   {
    "duration": 28,
    "start_time": "2021-11-27T11:09:26.123Z"
   },
   {
    "duration": 59,
    "start_time": "2021-11-27T11:09:26.154Z"
   },
   {
    "duration": 5,
    "start_time": "2021-11-27T11:09:26.215Z"
   },
   {
    "duration": 6,
    "start_time": "2021-11-27T11:09:26.222Z"
   },
   {
    "duration": 8,
    "start_time": "2021-11-27T11:09:26.231Z"
   },
   {
    "duration": 4,
    "start_time": "2021-11-27T11:09:26.245Z"
   },
   {
    "duration": 5,
    "start_time": "2021-11-27T11:09:26.253Z"
   },
   {
    "duration": 3,
    "start_time": "2021-11-27T11:09:26.301Z"
   },
   {
    "duration": 152,
    "start_time": "2021-11-27T11:09:26.307Z"
   },
   {
    "duration": 4,
    "start_time": "2021-11-27T11:09:26.462Z"
   },
   {
    "duration": 6,
    "start_time": "2021-11-27T11:09:26.468Z"
   },
   {
    "duration": 6,
    "start_time": "2021-11-27T11:09:26.477Z"
   },
   {
    "duration": 12,
    "start_time": "2021-11-27T11:09:26.502Z"
   },
   {
    "duration": 7,
    "start_time": "2021-11-27T11:09:26.516Z"
   },
   {
    "duration": 9,
    "start_time": "2021-11-27T11:09:26.525Z"
   },
   {
    "duration": 6,
    "start_time": "2021-11-27T11:09:26.537Z"
   },
   {
    "duration": 9,
    "start_time": "2021-11-27T11:09:26.545Z"
   },
   {
    "duration": 6,
    "start_time": "2021-11-27T11:09:26.557Z"
   },
   {
    "duration": 11,
    "start_time": "2021-11-27T11:09:26.565Z"
   },
   {
    "duration": 6,
    "start_time": "2021-11-27T11:09:26.579Z"
   },
   {
    "duration": 3,
    "start_time": "2021-11-27T11:09:26.606Z"
   },
   {
    "duration": 8,
    "start_time": "2021-11-27T11:09:26.612Z"
   },
   {
    "duration": 14,
    "start_time": "2021-11-27T11:09:26.623Z"
   },
   {
    "duration": 14,
    "start_time": "2021-11-27T11:09:26.639Z"
   },
   {
    "duration": 8,
    "start_time": "2021-11-27T11:09:26.656Z"
   },
   {
    "duration": 8,
    "start_time": "2021-11-27T11:09:26.667Z"
   },
   {
    "duration": 22,
    "start_time": "2021-11-27T11:09:26.678Z"
   },
   {
    "duration": 23,
    "start_time": "2021-11-27T11:09:26.704Z"
   },
   {
    "duration": 14,
    "start_time": "2021-11-27T11:09:26.730Z"
   },
   {
    "duration": 10,
    "start_time": "2021-11-27T11:09:26.746Z"
   },
   {
    "duration": 10,
    "start_time": "2021-11-27T11:09:26.759Z"
   },
   {
    "duration": 15,
    "start_time": "2021-11-27T11:09:26.771Z"
   },
   {
    "duration": 8,
    "start_time": "2021-11-27T11:09:26.788Z"
   },
   {
    "duration": 8,
    "start_time": "2021-11-27T11:09:26.799Z"
   },
   {
    "duration": 8,
    "start_time": "2021-11-27T11:09:26.810Z"
   },
   {
    "duration": 11,
    "start_time": "2021-11-27T11:09:26.820Z"
   },
   {
    "duration": 3,
    "start_time": "2021-11-27T11:17:24.371Z"
   },
   {
    "duration": 790,
    "start_time": "2021-11-27T11:17:36.977Z"
   },
   {
    "duration": 185,
    "start_time": "2021-11-27T11:17:39.801Z"
   },
   {
    "duration": 26,
    "start_time": "2021-11-27T11:17:42.418Z"
   },
   {
    "duration": 36,
    "start_time": "2021-11-27T11:17:45.737Z"
   },
   {
    "duration": 5,
    "start_time": "2021-11-27T11:17:52.252Z"
   },
   {
    "duration": 119,
    "start_time": "2021-11-27T11:18:54.511Z"
   },
   {
    "duration": 30,
    "start_time": "2021-11-27T11:19:09.584Z"
   },
   {
    "duration": 20,
    "start_time": "2021-11-27T11:19:22.232Z"
   },
   {
    "duration": 31,
    "start_time": "2021-11-27T11:19:53.489Z"
   },
   {
    "duration": 25,
    "start_time": "2021-11-27T11:21:29.484Z"
   },
   {
    "duration": 462,
    "start_time": "2021-11-27T11:21:57.870Z"
   },
   {
    "duration": 127,
    "start_time": "2021-11-27T11:22:12.012Z"
   },
   {
    "duration": 31,
    "start_time": "2021-11-27T11:22:17.005Z"
   },
   {
    "duration": 86,
    "start_time": "2021-11-27T11:22:43.340Z"
   },
   {
    "duration": 6,
    "start_time": "2021-11-27T11:23:26.757Z"
   },
   {
    "duration": 449,
    "start_time": "2021-11-27T11:24:14.572Z"
   },
   {
    "duration": 341,
    "start_time": "2021-11-27T11:24:24.164Z"
   },
   {
    "duration": 107,
    "start_time": "2021-11-27T11:24:31.801Z"
   },
   {
    "duration": 81,
    "start_time": "2021-11-27T11:24:41.937Z"
   },
   {
    "duration": 58,
    "start_time": "2021-11-27T11:27:45.327Z"
   },
   {
    "duration": 4,
    "start_time": "2021-11-27T11:36:11.902Z"
   },
   {
    "duration": 4,
    "start_time": "2021-11-27T11:37:33.732Z"
   },
   {
    "duration": 695,
    "start_time": "2021-11-27T11:38:06.914Z"
   },
   {
    "duration": 4,
    "start_time": "2021-11-27T11:38:34.702Z"
   },
   {
    "duration": 25,
    "start_time": "2021-11-27T11:38:36.637Z"
   },
   {
    "duration": 60,
    "start_time": "2021-11-27T11:39:18.174Z"
   },
   {
    "duration": 27,
    "start_time": "2021-11-27T11:42:12.308Z"
   },
   {
    "duration": 14,
    "start_time": "2021-11-27T11:43:35.506Z"
   },
   {
    "duration": 4,
    "start_time": "2021-11-27T11:48:49.382Z"
   },
   {
    "duration": 21,
    "start_time": "2021-11-27T11:49:12.421Z"
   },
   {
    "duration": 22,
    "start_time": "2021-11-27T11:49:48.317Z"
   },
   {
    "duration": 18,
    "start_time": "2021-11-27T11:50:15.846Z"
   },
   {
    "duration": 19,
    "start_time": "2021-11-27T11:50:53.037Z"
   },
   {
    "duration": 114,
    "start_time": "2021-11-27T11:51:36.444Z"
   },
   {
    "duration": 18,
    "start_time": "2021-11-27T11:51:39.196Z"
   },
   {
    "duration": 20,
    "start_time": "2021-11-27T11:52:09.741Z"
   },
   {
    "duration": 18,
    "start_time": "2021-11-27T11:52:23.258Z"
   },
   {
    "duration": 20,
    "start_time": "2021-11-27T11:52:28.380Z"
   },
   {
    "duration": 22,
    "start_time": "2021-11-27T11:52:31.740Z"
   },
   {
    "duration": 22,
    "start_time": "2021-11-27T11:52:34.220Z"
   },
   {
    "duration": 21,
    "start_time": "2021-11-27T11:52:37.085Z"
   },
   {
    "duration": 23,
    "start_time": "2021-11-27T11:52:39.226Z"
   },
   {
    "duration": 134,
    "start_time": "2021-11-27T11:54:34.453Z"
   },
   {
    "duration": 113,
    "start_time": "2021-11-27T11:54:41.682Z"
   },
   {
    "duration": 379,
    "start_time": "2021-11-27T11:54:58.529Z"
   },
   {
    "duration": 117,
    "start_time": "2021-11-27T11:55:14.642Z"
   },
   {
    "duration": 6,
    "start_time": "2021-11-27T11:55:21.433Z"
   },
   {
    "duration": 13,
    "start_time": "2021-11-27T11:55:43.838Z"
   },
   {
    "duration": 13,
    "start_time": "2021-11-27T11:57:21.525Z"
   },
   {
    "duration": 5,
    "start_time": "2021-11-27T11:57:33.157Z"
   },
   {
    "duration": 330,
    "start_time": "2021-11-27T11:57:47.926Z"
   },
   {
    "duration": 15,
    "start_time": "2021-11-27T11:57:56.991Z"
   },
   {
    "duration": 46,
    "start_time": "2021-11-27T11:58:00.090Z"
   },
   {
    "duration": 21,
    "start_time": "2021-11-27T11:58:10.284Z"
   },
   {
    "duration": 30,
    "start_time": "2021-11-27T11:58:18.886Z"
   },
   {
    "duration": 26,
    "start_time": "2021-11-27T11:58:30.012Z"
   },
   {
    "duration": 18,
    "start_time": "2021-11-27T11:58:41.756Z"
   },
   {
    "duration": 30,
    "start_time": "2021-11-27T11:58:46.972Z"
   },
   {
    "duration": 29,
    "start_time": "2021-11-27T11:59:04.350Z"
   },
   {
    "duration": 21,
    "start_time": "2021-11-27T11:59:09.422Z"
   },
   {
    "duration": 10,
    "start_time": "2021-11-27T11:59:29.788Z"
   },
   {
    "duration": 6,
    "start_time": "2021-11-27T11:59:37.385Z"
   },
   {
    "duration": 11,
    "start_time": "2021-11-27T11:59:57.388Z"
   },
   {
    "duration": 11,
    "start_time": "2021-11-27T12:00:19.837Z"
   },
   {
    "duration": 7,
    "start_time": "2021-11-27T12:00:30.076Z"
   },
   {
    "duration": 9,
    "start_time": "2021-11-27T12:00:41.148Z"
   },
   {
    "duration": 6,
    "start_time": "2021-11-27T12:00:49.273Z"
   },
   {
    "duration": 80,
    "start_time": "2021-11-27T12:01:32.427Z"
   },
   {
    "duration": 14,
    "start_time": "2021-11-27T12:02:17.438Z"
   },
   {
    "duration": 6,
    "start_time": "2021-11-27T12:04:41.529Z"
   },
   {
    "duration": 6,
    "start_time": "2021-11-27T12:04:47.139Z"
   },
   {
    "duration": 7,
    "start_time": "2021-11-27T12:04:52.141Z"
   },
   {
    "duration": 818,
    "start_time": "2021-11-27T12:05:24.393Z"
   },
   {
    "duration": 194,
    "start_time": "2021-11-27T12:05:25.213Z"
   },
   {
    "duration": 28,
    "start_time": "2021-11-27T12:05:25.411Z"
   },
   {
    "duration": 58,
    "start_time": "2021-11-27T12:05:25.442Z"
   },
   {
    "duration": 5,
    "start_time": "2021-11-27T12:05:25.503Z"
   },
   {
    "duration": 42,
    "start_time": "2021-11-27T12:05:25.510Z"
   },
   {
    "duration": 5,
    "start_time": "2021-11-27T12:05:25.554Z"
   },
   {
    "duration": 52,
    "start_time": "2021-11-27T12:05:25.563Z"
   },
   {
    "duration": 22,
    "start_time": "2021-11-27T12:05:25.618Z"
   },
   {
    "duration": 32,
    "start_time": "2021-11-27T12:05:25.642Z"
   },
   {
    "duration": 106,
    "start_time": "2021-11-27T12:05:25.676Z"
   },
   {
    "duration": 107,
    "start_time": "2021-11-27T12:05:25.800Z"
   },
   {
    "duration": 78,
    "start_time": "2021-11-27T12:05:25.909Z"
   },
   {
    "duration": 57,
    "start_time": "2021-11-27T12:05:26.001Z"
   },
   {
    "duration": 3,
    "start_time": "2021-11-27T12:05:26.061Z"
   },
   {
    "duration": 46,
    "start_time": "2021-11-27T12:05:26.067Z"
   },
   {
    "duration": 58,
    "start_time": "2021-11-27T12:05:26.115Z"
   },
   {
    "duration": 31,
    "start_time": "2021-11-27T12:05:26.175Z"
   },
   {
    "duration": 15,
    "start_time": "2021-11-27T12:05:26.209Z"
   },
   {
    "duration": 6,
    "start_time": "2021-11-27T12:05:26.226Z"
   },
   {
    "duration": 26,
    "start_time": "2021-11-27T12:05:26.235Z"
   },
   {
    "duration": 51,
    "start_time": "2021-11-27T12:05:26.264Z"
   },
   {
    "duration": 20,
    "start_time": "2021-11-27T12:05:26.320Z"
   },
   {
    "duration": 19,
    "start_time": "2021-11-27T12:05:26.343Z"
   },
   {
    "duration": 54,
    "start_time": "2021-11-27T12:05:26.365Z"
   },
   {
    "duration": 19,
    "start_time": "2021-11-27T12:05:26.422Z"
   },
   {
    "duration": 15,
    "start_time": "2021-11-27T12:05:26.444Z"
   },
   {
    "duration": 51,
    "start_time": "2021-11-27T12:05:26.461Z"
   },
   {
    "duration": 12,
    "start_time": "2021-11-27T12:05:26.515Z"
   },
   {
    "duration": 5,
    "start_time": "2021-11-27T12:05:26.530Z"
   },
   {
    "duration": 40,
    "start_time": "2021-11-27T12:05:26.537Z"
   },
   {
    "duration": 35,
    "start_time": "2021-11-27T12:05:26.579Z"
   },
   {
    "duration": 28,
    "start_time": "2021-11-27T12:05:26.617Z"
   },
   {
    "duration": 18,
    "start_time": "2021-11-27T12:05:26.647Z"
   },
   {
    "duration": 41,
    "start_time": "2021-11-27T12:05:26.668Z"
   },
   {
    "duration": 8,
    "start_time": "2021-11-27T12:05:26.712Z"
   },
   {
    "duration": 11,
    "start_time": "2021-11-27T12:05:26.723Z"
   },
   {
    "duration": 7,
    "start_time": "2021-11-27T12:05:26.736Z"
   },
   {
    "duration": 800,
    "start_time": "2021-11-28T07:42:48.120Z"
   },
   {
    "duration": 195,
    "start_time": "2021-11-28T07:42:48.922Z"
   },
   {
    "duration": 33,
    "start_time": "2021-11-28T07:42:49.120Z"
   },
   {
    "duration": 34,
    "start_time": "2021-11-28T07:42:49.155Z"
   },
   {
    "duration": 5,
    "start_time": "2021-11-28T07:42:49.191Z"
   },
   {
    "duration": 34,
    "start_time": "2021-11-28T07:42:49.229Z"
   },
   {
    "duration": 8,
    "start_time": "2021-11-28T07:42:49.266Z"
   },
   {
    "duration": 59,
    "start_time": "2021-11-28T07:42:49.278Z"
   },
   {
    "duration": 24,
    "start_time": "2021-11-28T07:42:49.341Z"
   },
   {
    "duration": 31,
    "start_time": "2021-11-28T07:42:49.367Z"
   },
   {
    "duration": 116,
    "start_time": "2021-11-28T07:42:49.400Z"
   },
   {
    "duration": 124,
    "start_time": "2021-11-28T07:42:49.529Z"
   },
   {
    "duration": 87,
    "start_time": "2021-11-28T07:42:49.655Z"
   },
   {
    "duration": 57,
    "start_time": "2021-11-28T07:42:49.745Z"
   },
   {
    "duration": 25,
    "start_time": "2021-11-28T07:42:49.804Z"
   },
   {
    "duration": 28,
    "start_time": "2021-11-28T07:42:49.833Z"
   },
   {
    "duration": 80,
    "start_time": "2021-11-28T07:42:49.864Z"
   },
   {
    "duration": 14,
    "start_time": "2021-11-28T07:42:49.946Z"
   },
   {
    "duration": 17,
    "start_time": "2021-11-28T07:42:49.962Z"
   },
   {
    "duration": 4,
    "start_time": "2021-11-28T07:42:49.982Z"
   },
   {
    "duration": 64,
    "start_time": "2021-11-28T07:42:49.989Z"
   },
   {
    "duration": 18,
    "start_time": "2021-11-28T07:42:50.055Z"
   },
   {
    "duration": 20,
    "start_time": "2021-11-28T07:42:50.078Z"
   },
   {
    "duration": 53,
    "start_time": "2021-11-28T07:42:50.100Z"
   },
   {
    "duration": 20,
    "start_time": "2021-11-28T07:42:50.155Z"
   },
   {
    "duration": 17,
    "start_time": "2021-11-28T07:42:50.177Z"
   },
   {
    "duration": 48,
    "start_time": "2021-11-28T07:42:50.196Z"
   },
   {
    "duration": 16,
    "start_time": "2021-11-28T07:42:50.246Z"
   },
   {
    "duration": 13,
    "start_time": "2021-11-28T07:42:50.264Z"
   },
   {
    "duration": 11,
    "start_time": "2021-11-28T07:42:50.280Z"
   },
   {
    "duration": 65,
    "start_time": "2021-11-28T07:42:50.294Z"
   },
   {
    "duration": 19,
    "start_time": "2021-11-28T07:42:50.361Z"
   },
   {
    "duration": 67,
    "start_time": "2021-11-28T07:42:50.382Z"
   },
   {
    "duration": 19,
    "start_time": "2021-11-28T07:42:50.452Z"
   },
   {
    "duration": 13,
    "start_time": "2021-11-28T07:42:50.474Z"
   },
   {
    "duration": 58,
    "start_time": "2021-11-28T07:42:50.489Z"
   },
   {
    "duration": 11,
    "start_time": "2021-11-28T07:42:50.550Z"
   },
   {
    "duration": 9,
    "start_time": "2021-11-28T07:42:50.564Z"
   },
   {
    "duration": 797,
    "start_time": "2021-11-28T08:26:59.248Z"
   },
   {
    "duration": 132,
    "start_time": "2021-11-28T08:36:34.144Z"
   },
   {
    "duration": 125,
    "start_time": "2021-11-28T08:36:46.639Z"
   },
   {
    "duration": 136,
    "start_time": "2021-11-28T08:36:51.362Z"
   },
   {
    "duration": 124,
    "start_time": "2021-11-28T08:37:32.286Z"
   },
   {
    "duration": 120,
    "start_time": "2021-11-28T08:38:43.205Z"
   },
   {
    "duration": 129,
    "start_time": "2021-11-28T08:39:13.597Z"
   },
   {
    "duration": 130,
    "start_time": "2021-11-28T08:39:23.781Z"
   },
   {
    "duration": 143,
    "start_time": "2021-11-28T08:39:41.360Z"
   },
   {
    "duration": 125,
    "start_time": "2021-11-28T08:39:49.260Z"
   },
   {
    "duration": 369,
    "start_time": "2021-11-28T08:40:45.037Z"
   },
   {
    "duration": 357,
    "start_time": "2021-11-28T08:40:55.902Z"
   },
   {
    "duration": 109,
    "start_time": "2021-11-28T08:42:25.787Z"
   },
   {
    "duration": 784,
    "start_time": "2021-11-28T08:45:56.628Z"
   },
   {
    "duration": 199,
    "start_time": "2021-11-28T08:45:57.415Z"
   },
   {
    "duration": 26,
    "start_time": "2021-11-28T08:45:57.617Z"
   },
   {
    "duration": 32,
    "start_time": "2021-11-28T08:45:57.646Z"
   },
   {
    "duration": 6,
    "start_time": "2021-11-28T08:45:57.701Z"
   },
   {
    "duration": 35,
    "start_time": "2021-11-28T08:45:57.710Z"
   },
   {
    "duration": 7,
    "start_time": "2021-11-28T08:45:57.748Z"
   },
   {
    "duration": 55,
    "start_time": "2021-11-28T08:45:57.760Z"
   },
   {
    "duration": 24,
    "start_time": "2021-11-28T08:45:57.818Z"
   },
   {
    "duration": 33,
    "start_time": "2021-11-28T08:45:57.844Z"
   },
   {
    "duration": 100,
    "start_time": "2021-11-28T08:45:57.901Z"
   },
   {
    "duration": 113,
    "start_time": "2021-11-28T08:45:58.003Z"
   },
   {
    "duration": 86,
    "start_time": "2021-11-28T08:45:58.119Z"
   },
   {
    "duration": 59,
    "start_time": "2021-11-28T08:45:58.207Z"
   },
   {
    "duration": 3,
    "start_time": "2021-11-28T08:45:58.268Z"
   },
   {
    "duration": 45,
    "start_time": "2021-11-28T08:45:58.274Z"
   },
   {
    "duration": 58,
    "start_time": "2021-11-28T08:45:58.321Z"
   },
   {
    "duration": 15,
    "start_time": "2021-11-28T08:45:58.400Z"
   },
   {
    "duration": 14,
    "start_time": "2021-11-28T08:45:58.417Z"
   },
   {
    "duration": 5,
    "start_time": "2021-11-28T08:45:58.433Z"
   },
   {
    "duration": 23,
    "start_time": "2021-11-28T08:45:58.440Z"
   },
   {
    "duration": 51,
    "start_time": "2021-11-28T08:45:58.465Z"
   },
   {
    "duration": 19,
    "start_time": "2021-11-28T08:45:58.521Z"
   },
   {
    "duration": 19,
    "start_time": "2021-11-28T08:45:58.543Z"
   },
   {
    "duration": 54,
    "start_time": "2021-11-28T08:45:58.565Z"
   },
   {
    "duration": 18,
    "start_time": "2021-11-28T08:45:58.622Z"
   },
   {
    "duration": 13,
    "start_time": "2021-11-28T08:45:58.643Z"
   },
   {
    "duration": 51,
    "start_time": "2021-11-28T08:45:58.658Z"
   },
   {
    "duration": 25,
    "start_time": "2021-11-28T08:45:58.711Z"
   },
   {
    "duration": 8,
    "start_time": "2021-11-28T08:45:58.739Z"
   },
   {
    "duration": 37,
    "start_time": "2021-11-28T08:45:58.750Z"
   },
   {
    "duration": 26,
    "start_time": "2021-11-28T08:45:58.790Z"
   },
   {
    "duration": 29,
    "start_time": "2021-11-28T08:45:58.818Z"
   },
   {
    "duration": 20,
    "start_time": "2021-11-28T08:45:58.849Z"
   },
   {
    "duration": 12,
    "start_time": "2021-11-28T08:45:58.901Z"
   },
   {
    "duration": 6,
    "start_time": "2021-11-28T08:45:58.916Z"
   },
   {
    "duration": 18,
    "start_time": "2021-11-28T08:45:58.924Z"
   },
   {
    "duration": 6,
    "start_time": "2021-11-28T08:45:58.945Z"
   },
   {
    "duration": 6,
    "start_time": "2021-11-28T08:48:24.506Z"
   },
   {
    "duration": 6,
    "start_time": "2021-11-28T08:48:30.716Z"
   },
   {
    "duration": 6,
    "start_time": "2021-11-28T08:48:34.708Z"
   },
   {
    "duration": 133,
    "start_time": "2021-11-28T08:52:06.626Z"
   },
   {
    "duration": 110,
    "start_time": "2021-11-28T08:52:28.714Z"
   },
   {
    "duration": 110,
    "start_time": "2021-11-28T08:52:30.617Z"
   },
   {
    "duration": 124,
    "start_time": "2021-11-28T08:52:33.113Z"
   },
   {
    "duration": 77,
    "start_time": "2021-11-28T08:57:08.604Z"
   },
   {
    "duration": 60,
    "start_time": "2021-11-28T08:57:59.339Z"
   },
   {
    "duration": 4,
    "start_time": "2021-11-28T09:01:06.103Z"
   },
   {
    "duration": 1012,
    "start_time": "2021-11-28T09:01:08.224Z"
   },
   {
    "duration": 6,
    "start_time": "2021-11-28T09:02:10.526Z"
   },
   {
    "duration": 4,
    "start_time": "2021-11-28T09:09:44.256Z"
   },
   {
    "duration": 1263,
    "start_time": "2021-11-28T09:10:06.944Z"
   },
   {
    "duration": 813,
    "start_time": "2021-11-28T09:10:31.089Z"
   },
   {
    "duration": 196,
    "start_time": "2021-11-28T09:10:31.905Z"
   },
   {
    "duration": 26,
    "start_time": "2021-11-28T09:10:32.104Z"
   },
   {
    "duration": 48,
    "start_time": "2021-11-28T09:10:32.133Z"
   },
   {
    "duration": 16,
    "start_time": "2021-11-28T09:10:32.183Z"
   },
   {
    "duration": 27,
    "start_time": "2021-11-28T09:10:32.201Z"
   },
   {
    "duration": 11,
    "start_time": "2021-11-28T09:10:32.230Z"
   },
   {
    "duration": 36,
    "start_time": "2021-11-28T09:10:32.244Z"
   },
   {
    "duration": 40,
    "start_time": "2021-11-28T09:10:32.282Z"
   },
   {
    "duration": 32,
    "start_time": "2021-11-28T09:10:32.324Z"
   },
   {
    "duration": 116,
    "start_time": "2021-11-28T09:10:32.358Z"
   },
   {
    "duration": 116,
    "start_time": "2021-11-28T09:10:32.477Z"
   },
   {
    "duration": 77,
    "start_time": "2021-11-28T09:10:32.596Z"
   },
   {
    "duration": 76,
    "start_time": "2021-11-28T09:10:32.675Z"
   },
   {
    "duration": 8,
    "start_time": "2021-11-28T09:10:32.754Z"
   },
   {
    "duration": 841,
    "start_time": "2021-11-28T09:10:54.704Z"
   },
   {
    "duration": 4,
    "start_time": "2021-11-28T09:11:09.501Z"
   },
   {
    "duration": 774,
    "start_time": "2021-11-28T09:11:12.567Z"
   },
   {
    "duration": 997,
    "start_time": "2021-11-28T09:13:25.213Z"
   },
   {
    "duration": 4,
    "start_time": "2021-11-28T09:13:42.820Z"
   },
   {
    "duration": 5,
    "start_time": "2021-11-28T09:14:01.018Z"
   },
   {
    "duration": 14,
    "start_time": "2021-11-28T09:14:03.529Z"
   },
   {
    "duration": 59,
    "start_time": "2021-11-28T09:14:11.765Z"
   },
   {
    "duration": 60,
    "start_time": "2021-11-28T09:14:37.402Z"
   },
   {
    "duration": 4,
    "start_time": "2021-11-28T09:15:37.776Z"
   },
   {
    "duration": 755,
    "start_time": "2021-11-28T09:15:40.470Z"
   },
   {
    "duration": 4,
    "start_time": "2021-11-28T09:16:53.367Z"
   },
   {
    "duration": 14,
    "start_time": "2021-11-28T09:17:12.033Z"
   },
   {
    "duration": 59,
    "start_time": "2021-11-28T09:17:15.149Z"
   },
   {
    "duration": 5,
    "start_time": "2021-11-28T09:18:28.448Z"
   },
   {
    "duration": 14,
    "start_time": "2021-11-28T09:18:59.377Z"
   },
   {
    "duration": 60,
    "start_time": "2021-11-28T09:19:05.092Z"
   },
   {
    "duration": 15,
    "start_time": "2021-11-28T09:21:12.538Z"
   },
   {
    "duration": 15,
    "start_time": "2021-11-28T09:21:17.236Z"
   },
   {
    "duration": 14,
    "start_time": "2021-11-28T09:21:20.786Z"
   },
   {
    "duration": 14,
    "start_time": "2021-11-28T10:10:23.082Z"
   },
   {
    "duration": 4,
    "start_time": "2021-11-28T10:10:39.989Z"
   },
   {
    "duration": 5,
    "start_time": "2021-11-28T10:10:53.908Z"
   },
   {
    "duration": 5,
    "start_time": "2021-11-28T10:11:10.350Z"
   },
   {
    "duration": 341,
    "start_time": "2021-11-28T10:46:04.866Z"
   },
   {
    "duration": 817,
    "start_time": "2021-11-28T10:46:46.785Z"
   },
   {
    "duration": 196,
    "start_time": "2021-11-28T10:46:47.605Z"
   },
   {
    "duration": 43,
    "start_time": "2021-11-28T10:46:47.805Z"
   },
   {
    "duration": 64,
    "start_time": "2021-11-28T10:46:47.851Z"
   },
   {
    "duration": 7,
    "start_time": "2021-11-28T10:46:47.918Z"
   },
   {
    "duration": 37,
    "start_time": "2021-11-28T10:46:47.928Z"
   },
   {
    "duration": 16,
    "start_time": "2021-11-28T10:46:47.968Z"
   },
   {
    "duration": 37,
    "start_time": "2021-11-28T10:46:47.990Z"
   },
   {
    "duration": 23,
    "start_time": "2021-11-28T10:46:48.030Z"
   },
   {
    "duration": 64,
    "start_time": "2021-11-28T10:46:48.055Z"
   },
   {
    "duration": 109,
    "start_time": "2021-11-28T10:46:48.121Z"
   },
   {
    "duration": 122,
    "start_time": "2021-11-28T10:46:48.232Z"
   },
   {
    "duration": 93,
    "start_time": "2021-11-28T10:46:48.357Z"
   },
   {
    "duration": 69,
    "start_time": "2021-11-28T10:46:48.452Z"
   },
   {
    "duration": 4,
    "start_time": "2021-11-28T10:46:48.524Z"
   },
   {
    "duration": 25,
    "start_time": "2021-11-28T10:46:48.530Z"
   },
   {
    "duration": 75,
    "start_time": "2021-11-28T10:46:48.557Z"
   },
   {
    "duration": 17,
    "start_time": "2021-11-28T10:46:48.634Z"
   },
   {
    "duration": 24,
    "start_time": "2021-11-28T10:46:48.654Z"
   },
   {
    "duration": 22,
    "start_time": "2021-11-28T10:46:48.680Z"
   },
   {
    "duration": 40,
    "start_time": "2021-11-28T10:46:48.704Z"
   },
   {
    "duration": 18,
    "start_time": "2021-11-28T10:46:48.746Z"
   },
   {
    "duration": 32,
    "start_time": "2021-11-28T10:46:48.768Z"
   },
   {
    "duration": 21,
    "start_time": "2021-11-28T10:46:48.802Z"
   },
   {
    "duration": 20,
    "start_time": "2021-11-28T10:46:48.825Z"
   },
   {
    "duration": 18,
    "start_time": "2021-11-28T10:46:48.848Z"
   },
   {
    "duration": 41,
    "start_time": "2021-11-28T10:46:48.868Z"
   },
   {
    "duration": 14,
    "start_time": "2021-11-28T10:47:30.763Z"
   },
   {
    "duration": 12,
    "start_time": "2021-11-28T10:47:32.670Z"
   },
   {
    "duration": 5,
    "start_time": "2021-11-28T10:47:35.075Z"
   },
   {
    "duration": 24,
    "start_time": "2021-11-28T10:48:06.434Z"
   },
   {
    "duration": 17,
    "start_time": "2021-11-28T10:48:10.820Z"
   },
   {
    "duration": 24,
    "start_time": "2021-11-28T10:48:12.949Z"
   },
   {
    "duration": 17,
    "start_time": "2021-11-28T10:48:15.516Z"
   },
   {
    "duration": 131,
    "start_time": "2021-11-28T10:48:28.795Z"
   },
   {
    "duration": 16,
    "start_time": "2021-11-28T10:48:35.132Z"
   },
   {
    "duration": 25,
    "start_time": "2021-11-28T10:48:54.043Z"
   },
   {
    "duration": 18,
    "start_time": "2021-11-28T10:48:58.971Z"
   },
   {
    "duration": 27,
    "start_time": "2021-11-28T10:49:05.483Z"
   },
   {
    "duration": 11,
    "start_time": "2021-11-28T10:50:43.319Z"
   },
   {
    "duration": 7,
    "start_time": "2021-11-28T10:50:45.598Z"
   },
   {
    "duration": 6,
    "start_time": "2021-11-28T10:50:55.278Z"
   },
   {
    "duration": 438,
    "start_time": "2021-11-28T10:51:09.558Z"
   },
   {
    "duration": 8,
    "start_time": "2021-11-28T10:51:22.757Z"
   },
   {
    "duration": 7,
    "start_time": "2021-11-28T10:51:24.359Z"
   },
   {
    "duration": 835,
    "start_time": "2021-11-28T10:59:24.075Z"
   },
   {
    "duration": 196,
    "start_time": "2021-11-28T10:59:24.913Z"
   },
   {
    "duration": 26,
    "start_time": "2021-11-28T10:59:25.111Z"
   },
   {
    "duration": 36,
    "start_time": "2021-11-28T10:59:25.139Z"
   },
   {
    "duration": 26,
    "start_time": "2021-11-28T10:59:25.177Z"
   },
   {
    "duration": 32,
    "start_time": "2021-11-28T10:59:25.206Z"
   },
   {
    "duration": 15,
    "start_time": "2021-11-28T10:59:25.240Z"
   },
   {
    "duration": 51,
    "start_time": "2021-11-28T10:59:25.258Z"
   },
   {
    "duration": 31,
    "start_time": "2021-11-28T10:59:25.312Z"
   },
   {
    "duration": 30,
    "start_time": "2021-11-28T10:59:25.345Z"
   },
   {
    "duration": 102,
    "start_time": "2021-11-28T10:59:25.377Z"
   },
   {
    "duration": 118,
    "start_time": "2021-11-28T10:59:25.482Z"
   },
   {
    "duration": 79,
    "start_time": "2021-11-28T10:59:25.602Z"
   },
   {
    "duration": 69,
    "start_time": "2021-11-28T10:59:25.683Z"
   },
   {
    "duration": 4,
    "start_time": "2021-11-28T10:59:25.755Z"
   },
   {
    "duration": 16,
    "start_time": "2021-11-28T10:59:25.761Z"
   },
   {
    "duration": 58,
    "start_time": "2021-11-28T10:59:25.801Z"
   },
   {
    "duration": 15,
    "start_time": "2021-11-28T10:59:25.862Z"
   },
   {
    "duration": 14,
    "start_time": "2021-11-28T10:59:25.901Z"
   },
   {
    "duration": 5,
    "start_time": "2021-11-28T10:59:25.918Z"
   },
   {
    "duration": 33,
    "start_time": "2021-11-28T10:59:25.925Z"
   },
   {
    "duration": 41,
    "start_time": "2021-11-28T10:59:25.961Z"
   },
   {
    "duration": 49,
    "start_time": "2021-11-28T10:59:26.006Z"
   },
   {
    "duration": 19,
    "start_time": "2021-11-28T10:59:26.064Z"
   },
   {
    "duration": 21,
    "start_time": "2021-11-28T10:59:26.086Z"
   },
   {
    "duration": 18,
    "start_time": "2021-11-28T10:59:26.110Z"
   },
   {
    "duration": 12,
    "start_time": "2021-11-28T10:59:26.131Z"
   },
   {
    "duration": 59,
    "start_time": "2021-11-28T10:59:26.146Z"
   },
   {
    "duration": 14,
    "start_time": "2021-11-28T10:59:26.208Z"
   },
   {
    "duration": 7,
    "start_time": "2021-11-28T10:59:26.225Z"
   },
   {
    "duration": 30,
    "start_time": "2021-11-28T10:59:26.235Z"
   },
   {
    "duration": 46,
    "start_time": "2021-11-28T10:59:26.268Z"
   },
   {
    "duration": 26,
    "start_time": "2021-11-28T10:59:26.317Z"
   },
   {
    "duration": 56,
    "start_time": "2021-11-28T10:59:26.346Z"
   },
   {
    "duration": 11,
    "start_time": "2021-11-28T10:59:26.405Z"
   },
   {
    "duration": 5,
    "start_time": "2021-11-28T10:59:26.419Z"
   },
   {
    "duration": 12,
    "start_time": "2021-11-28T10:59:26.427Z"
   },
   {
    "duration": 8,
    "start_time": "2021-11-28T10:59:26.441Z"
   },
   {
    "duration": 466,
    "start_time": "2021-11-28T13:29:29.777Z"
   },
   {
    "duration": 625,
    "start_time": "2021-11-28T13:29:37.807Z"
   },
   {
    "duration": 794,
    "start_time": "2021-11-28T13:29:47.272Z"
   },
   {
    "duration": 1037,
    "start_time": "2021-11-28T13:30:03.952Z"
   },
   {
    "duration": 253,
    "start_time": "2021-11-28T13:30:04.993Z"
   },
   {
    "duration": 42,
    "start_time": "2021-11-28T13:30:05.249Z"
   },
   {
    "duration": 51,
    "start_time": "2021-11-28T13:30:05.299Z"
   },
   {
    "duration": 6,
    "start_time": "2021-11-28T13:30:05.353Z"
   },
   {
    "duration": 61,
    "start_time": "2021-11-28T13:30:05.362Z"
   },
   {
    "duration": 6,
    "start_time": "2021-11-28T13:30:05.427Z"
   },
   {
    "duration": 64,
    "start_time": "2021-11-28T13:30:05.438Z"
   },
   {
    "duration": 23,
    "start_time": "2021-11-28T13:30:05.506Z"
   },
   {
    "duration": 59,
    "start_time": "2021-11-28T13:30:05.532Z"
   },
   {
    "duration": 111,
    "start_time": "2021-11-28T13:30:05.594Z"
   },
   {
    "duration": 141,
    "start_time": "2021-11-28T13:30:05.708Z"
   },
   {
    "duration": 104,
    "start_time": "2021-11-28T13:30:05.852Z"
   },
   {
    "duration": 94,
    "start_time": "2021-11-28T13:30:05.959Z"
   },
   {
    "duration": 5,
    "start_time": "2021-11-28T13:30:06.055Z"
   },
   {
    "duration": 30,
    "start_time": "2021-11-28T13:30:06.063Z"
   },
   {
    "duration": 75,
    "start_time": "2021-11-28T13:30:06.096Z"
   },
   {
    "duration": 21,
    "start_time": "2021-11-28T13:30:06.174Z"
   },
   {
    "duration": 20,
    "start_time": "2021-11-28T13:30:06.198Z"
   },
   {
    "duration": 7,
    "start_time": "2021-11-28T13:30:06.220Z"
   },
   {
    "duration": 27,
    "start_time": "2021-11-28T13:30:06.229Z"
   },
   {
    "duration": 22,
    "start_time": "2021-11-28T13:30:06.291Z"
   },
   {
    "duration": 18,
    "start_time": "2021-11-28T13:30:06.318Z"
   },
   {
    "duration": 67,
    "start_time": "2021-11-28T13:30:06.340Z"
   },
   {
    "duration": 27,
    "start_time": "2021-11-28T13:30:06.411Z"
   },
   {
    "duration": 44,
    "start_time": "2021-11-28T13:30:06.441Z"
   },
   {
    "duration": 21,
    "start_time": "2021-11-28T13:30:06.488Z"
   },
   {
    "duration": 19,
    "start_time": "2021-11-28T13:30:06.512Z"
   },
   {
    "duration": 16,
    "start_time": "2021-11-28T13:30:06.534Z"
   },
   {
    "duration": 35,
    "start_time": "2021-11-28T13:30:06.553Z"
   },
   {
    "duration": 42,
    "start_time": "2021-11-28T13:30:06.591Z"
   },
   {
    "duration": 25,
    "start_time": "2021-11-28T13:30:06.636Z"
   },
   {
    "duration": 34,
    "start_time": "2021-11-28T13:30:06.690Z"
   },
   {
    "duration": 21,
    "start_time": "2021-11-28T13:30:06.726Z"
   },
   {
    "duration": 41,
    "start_time": "2021-11-28T13:30:06.750Z"
   },
   {
    "duration": 14,
    "start_time": "2021-11-28T13:30:06.793Z"
   },
   {
    "duration": 14,
    "start_time": "2021-11-28T13:30:06.810Z"
   },
   {
    "duration": 8,
    "start_time": "2021-11-28T13:30:06.827Z"
   },
   {
    "duration": 5,
    "start_time": "2021-11-28T13:30:27.604Z"
   },
   {
    "duration": 232,
    "start_time": "2021-11-28T13:30:27.617Z"
   },
   {
    "duration": 36,
    "start_time": "2021-11-28T13:30:27.852Z"
   },
   {
    "duration": 46,
    "start_time": "2021-11-28T13:30:27.892Z"
   },
   {
    "duration": 7,
    "start_time": "2021-11-28T13:30:27.942Z"
   },
   {
    "duration": 80,
    "start_time": "2021-11-28T13:30:27.953Z"
   },
   {
    "duration": 7,
    "start_time": "2021-11-28T13:30:28.036Z"
   },
   {
    "duration": 82,
    "start_time": "2021-11-28T13:30:28.046Z"
   },
   {
    "duration": 35,
    "start_time": "2021-11-28T13:30:28.134Z"
   },
   {
    "duration": 61,
    "start_time": "2021-11-28T13:30:28.173Z"
   },
   {
    "duration": 123,
    "start_time": "2021-11-28T13:30:28.237Z"
   },
   {
    "duration": 140,
    "start_time": "2021-11-28T13:30:28.363Z"
   },
   {
    "duration": 136,
    "start_time": "2021-11-28T13:30:28.506Z"
   },
   {
    "duration": 81,
    "start_time": "2021-11-28T13:30:28.645Z"
   },
   {
    "duration": 4,
    "start_time": "2021-11-28T13:30:28.730Z"
   },
   {
    "duration": 26,
    "start_time": "2021-11-28T13:30:28.737Z"
   },
   {
    "duration": 136,
    "start_time": "2021-11-28T13:30:28.767Z"
   },
   {
    "duration": 22,
    "start_time": "2021-11-28T13:30:28.906Z"
   },
   {
    "duration": 23,
    "start_time": "2021-11-28T13:30:28.933Z"
   },
   {
    "duration": 39,
    "start_time": "2021-11-28T13:30:28.959Z"
   },
   {
    "duration": 34,
    "start_time": "2021-11-28T13:30:29.002Z"
   },
   {
    "duration": 20,
    "start_time": "2021-11-28T13:30:29.039Z"
   },
   {
    "duration": 42,
    "start_time": "2021-11-28T13:30:29.063Z"
   },
   {
    "duration": 24,
    "start_time": "2021-11-28T13:30:29.113Z"
   },
   {
    "duration": 46,
    "start_time": "2021-11-28T13:30:29.140Z"
   },
   {
    "duration": 27,
    "start_time": "2021-11-28T13:30:29.195Z"
   },
   {
    "duration": 16,
    "start_time": "2021-11-28T13:30:29.225Z"
   },
   {
    "duration": 50,
    "start_time": "2021-11-28T13:30:29.244Z"
   },
   {
    "duration": 21,
    "start_time": "2021-11-28T13:30:29.297Z"
   },
   {
    "duration": 8,
    "start_time": "2021-11-28T13:30:29.321Z"
   },
   {
    "duration": 35,
    "start_time": "2021-11-28T13:30:29.333Z"
   },
   {
    "duration": 45,
    "start_time": "2021-11-28T13:30:29.370Z"
   },
   {
    "duration": 25,
    "start_time": "2021-11-28T13:30:29.418Z"
   },
   {
    "duration": 47,
    "start_time": "2021-11-28T13:30:29.446Z"
   },
   {
    "duration": 16,
    "start_time": "2021-11-28T13:30:29.496Z"
   },
   {
    "duration": 9,
    "start_time": "2021-11-28T13:30:29.516Z"
   },
   {
    "duration": 12,
    "start_time": "2021-11-28T13:30:29.528Z"
   },
   {
    "duration": 46,
    "start_time": "2021-11-28T13:30:29.542Z"
   },
   {
    "duration": 1018,
    "start_time": "2021-11-28T13:32:26.911Z"
   },
   {
    "duration": 267,
    "start_time": "2021-11-28T13:32:27.933Z"
   },
   {
    "duration": 38,
    "start_time": "2021-11-28T13:32:28.204Z"
   },
   {
    "duration": 65,
    "start_time": "2021-11-28T13:32:28.246Z"
   },
   {
    "duration": 7,
    "start_time": "2021-11-28T13:32:28.316Z"
   },
   {
    "duration": 33,
    "start_time": "2021-11-28T13:32:28.326Z"
   },
   {
    "duration": 29,
    "start_time": "2021-11-28T13:32:28.362Z"
   },
   {
    "duration": 56,
    "start_time": "2021-11-28T13:32:28.397Z"
   },
   {
    "duration": 59,
    "start_time": "2021-11-28T13:32:28.457Z"
   },
   {
    "duration": 48,
    "start_time": "2021-11-28T13:32:28.519Z"
   },
   {
    "duration": 126,
    "start_time": "2021-11-28T13:32:28.591Z"
   },
   {
    "duration": 155,
    "start_time": "2021-11-28T13:32:28.720Z"
   },
   {
    "duration": 123,
    "start_time": "2021-11-28T13:32:28.878Z"
   },
   {
    "duration": 63,
    "start_time": "2021-11-28T13:32:29.004Z"
   },
   {
    "duration": 5,
    "start_time": "2021-11-28T13:32:29.087Z"
   },
   {
    "duration": 21,
    "start_time": "2021-11-28T13:32:29.095Z"
   },
   {
    "duration": 86,
    "start_time": "2021-11-28T13:32:29.119Z"
   },
   {
    "duration": 21,
    "start_time": "2021-11-28T13:32:29.208Z"
   },
   {
    "duration": 16,
    "start_time": "2021-11-28T13:32:29.232Z"
   },
   {
    "duration": 8,
    "start_time": "2021-11-28T13:32:29.291Z"
   },
   {
    "duration": 25,
    "start_time": "2021-11-28T13:32:29.301Z"
   },
   {
    "duration": 27,
    "start_time": "2021-11-28T13:32:29.329Z"
   },
   {
    "duration": 32,
    "start_time": "2021-11-28T13:32:29.394Z"
   },
   {
    "duration": 20,
    "start_time": "2021-11-28T13:32:29.430Z"
   },
   {
    "duration": 56,
    "start_time": "2021-11-28T13:32:29.453Z"
   },
   {
    "duration": 29,
    "start_time": "2021-11-28T13:32:29.512Z"
   },
   {
    "duration": 16,
    "start_time": "2021-11-28T13:32:29.544Z"
   },
   {
    "duration": 50,
    "start_time": "2021-11-28T13:32:29.562Z"
   },
   {
    "duration": 19,
    "start_time": "2021-11-28T13:32:29.615Z"
   },
   {
    "duration": 6,
    "start_time": "2021-11-28T13:32:29.638Z"
   },
   {
    "duration": 76,
    "start_time": "2021-11-28T13:32:29.647Z"
   },
   {
    "duration": 24,
    "start_time": "2021-11-28T13:32:29.726Z"
   },
   {
    "duration": 50,
    "start_time": "2021-11-28T13:32:29.753Z"
   },
   {
    "duration": 21,
    "start_time": "2021-11-28T13:32:29.806Z"
   },
   {
    "duration": 13,
    "start_time": "2021-11-28T13:32:29.830Z"
   },
   {
    "duration": 6,
    "start_time": "2021-11-28T13:32:29.846Z"
   },
   {
    "duration": 43,
    "start_time": "2021-11-28T13:32:29.855Z"
   },
   {
    "duration": 8,
    "start_time": "2021-11-28T13:32:29.900Z"
   },
   {
    "duration": 6,
    "start_time": "2021-11-28T13:37:55.883Z"
   },
   {
    "duration": 20,
    "start_time": "2021-11-28T13:40:24.563Z"
   },
   {
    "duration": 23,
    "start_time": "2021-11-28T13:41:01.390Z"
   },
   {
    "duration": 21,
    "start_time": "2021-11-28T13:41:05.537Z"
   },
   {
    "duration": 23,
    "start_time": "2021-11-28T13:41:09.552Z"
   },
   {
    "duration": 22,
    "start_time": "2021-11-28T13:41:15.077Z"
   },
   {
    "duration": 26,
    "start_time": "2021-11-28T13:41:19.552Z"
   },
   {
    "duration": 18,
    "start_time": "2021-11-28T13:41:31.385Z"
   },
   {
    "duration": 18,
    "start_time": "2021-11-28T13:52:58.389Z"
   },
   {
    "duration": 16,
    "start_time": "2021-11-28T13:53:01.664Z"
   },
   {
    "duration": 21,
    "start_time": "2021-11-28T13:58:59.910Z"
   },
   {
    "duration": 30,
    "start_time": "2021-11-28T14:09:38.771Z"
   },
   {
    "duration": 79,
    "start_time": "2021-11-28T14:09:49.967Z"
   },
   {
    "duration": 59,
    "start_time": "2021-11-28T14:10:00.855Z"
   }
  ],
  "colab": {
   "collapsed_sections": [
    "E0vqbgi9ay0H",
    "VUC88oWjTJw2"
   ],
   "name": "yandex_music_project_2021.2.ipynb",
   "provenance": []
  },
  "kernelspec": {
   "display_name": "Python 3 (ipykernel)",
   "language": "python",
   "name": "python3"
  },
  "language_info": {
   "codemirror_mode": {
    "name": "ipython",
    "version": 3
   },
   "file_extension": ".py",
   "mimetype": "text/x-python",
   "name": "python",
   "nbconvert_exporter": "python",
   "pygments_lexer": "ipython3",
   "version": "3.9.12"
  },
  "toc": {
   "base_numbering": 1,
   "nav_menu": {},
   "number_sections": true,
   "sideBar": false,
   "skip_h1_title": true,
   "title_cell": "Table of Contents",
   "title_sidebar": "Contents",
   "toc_cell": false,
   "toc_position": {
    "height": "500px",
    "left": "97px",
    "top": "140.569px",
    "width": "149px"
   },
   "toc_section_display": true,
   "toc_window_display": false
  },
  "toc-autonumbering": false,
  "toc-showcode": false,
  "toc-showmarkdowntxt": false,
  "toc-showtags": false,
  "widgets": {
   "application/vnd.jupyter.widget-state+json": {
    "state": {},
    "version_major": 2,
    "version_minor": 0
   }
  }
 },
 "nbformat": 4,
 "nbformat_minor": 4
}
